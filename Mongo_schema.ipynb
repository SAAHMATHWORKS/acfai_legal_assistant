{
 "cells": [
  {
   "cell_type": "code",
   "execution_count": 1,
   "id": "adb73788-1778-4ea6-8470-4a893ac7a165",
   "metadata": {},
   "outputs": [],
   "source": [
    "import pymongo\n",
    "from pymongo import MongoClient\n",
    "import os"
   ]
  },
  {
   "cell_type": "code",
   "execution_count": 2,
   "id": "d53a8e42-f5e1-4837-9c04-da8b3c5afc58",
   "metadata": {},
   "outputs": [
    {
     "name": "stdout",
     "output_type": "stream",
     "text": [
      "MONGO_URI loaded successfully!\n"
     ]
    }
   ],
   "source": [
    "import os\n",
    "from dotenv import load_dotenv\n",
    "\n",
    "# This will load the key-value pairs from your .env file into the environment\n",
    "# It looks for the .env file in the current directory by default\n",
    "load_dotenv(dotenv_path='./laws/.env')\n",
    "\n",
    "# Now you can correctly access the variable by its name, which is 'MONGO_URI'\n",
    "MONGO_URI = os.environ.get('mongo_uri')\n",
    "\n",
    "# It's a good practice to check if the variable was loaded successfully\n",
    "if MONGO_URI is None:\n",
    "    print(\"Error: MONGO_URI environment variable not found. Please check your .env file.\")\n",
    "else:\n",
    "    print(\"MONGO_URI loaded successfully!\")"
   ]
  },
  {
   "cell_type": "code",
   "execution_count": 3,
   "id": "a236a770-fb90-439d-9a57-730af7e6193f",
   "metadata": {},
   "outputs": [
    {
     "name": "stdout",
     "output_type": "stream",
     "text": [
      "Schema validation successfully applied to the 'legal_documents' collection.\n"
     ]
    }
   ],
   "source": [
    "# The name of your database and collection\n",
    "DB_NAME = \"legal_db\"\n",
    "COLLECTION_NAME = \"legal_documents\"\n",
    "\n",
    "# The schema validation rules as a Python dictionary\n",
    "# This is your final schema for Benin and Madagascar laws\n",
    "schema_validator = {\n",
    "    \"$jsonSchema\": {\n",
    "        \"bsonType\": \"object\",\n",
    "        \"required\": [\"titre\", \"pays\", \"categorie\", \"langue\", \"contenu\", \"date_publication\", \"url_source\", \"vecteur_embedding\", \"mots_cles\"],\n",
    "        \"properties\": {\n",
    "            \"titre\": {\n",
    "                \"bsonType\": \"string\",\n",
    "                \"description\": \"doit être une chaîne de caractères et est requis\"\n",
    "            },\n",
    "            \"pays\": {\n",
    "                \"enum\": [\"Bénin\", \"Madagascar\"],\n",
    "                \"description\": \"doit être 'Bénin' ou 'Madagascar'\"\n",
    "            },\n",
    "            \"categorie\": {\n",
    "                \"enum\": [\"Statut\", \"Jurisprudence\", \"Guide Juridique\", \"Texte Constitutionnel\", \"Décret\", \"Ordonnance\", \"Code des personnes et de la famille\"],\n",
    "                \"description\": \"doit être l'une des catégories spécifiées\"\n",
    "            },\n",
    "            \"langue\": {\n",
    "                \"enum\": [\"Français\", \"Malgache\"],\n",
    "                \"description\": \"doit être 'Français' ou 'Malgache'\"\n",
    "            },\n",
    "            \"contenu\": {\n",
    "                \"bsonType\": \"string\",\n",
    "                \"description\": \"doit être une chaîne de caractères et est requis\"\n",
    "            },\n",
    "            \"date_publication\": {\n",
    "                \"bsonType\": \"date\",\n",
    "                \"description\": \"doit être une date et est requis\"\n",
    "            },\n",
    "            \"url_source\": {\n",
    "                \"bsonType\": \"string\",\n",
    "                \"description\": \"doit être une chaîne de caractères et est requis\"\n",
    "            },\n",
    "            \"vecteur_embedding\": {\n",
    "                \"bsonType\": \"array\",\n",
    "                \"description\": \"doit être un tableau de vecteurs et est requis\"\n",
    "            },\n",
    "            \"mots_cles\": {\n",
    "                \"bsonType\": \"array\",\n",
    "                \"items\": {\n",
    "                    \"bsonType\": \"string\"\n",
    "                },\n",
    "                \"description\": \"doit être un tableau de chaînes de caractères\"\n",
    "            }\n",
    "        }\n",
    "    }\n",
    "}\n",
    "\n",
    "try:\n",
    "    # Connect to MongoDB Atlas\n",
    "    client = MongoClient(MONGO_URI)\n",
    "    \n",
    "    # Select the database and collection\n",
    "    db = client[DB_NAME]\n",
    "    \n",
    "    # Execute the collMod command to set the validator\n",
    "    db.command(\"collMod\", COLLECTION_NAME, validator=schema_validator, validationAction=\"error\")\n",
    "    \n",
    "    print(f\"Schema validation successfully applied to the '{COLLECTION_NAME}' collection.\")\n",
    "\n",
    "except pymongo.errors.OperationFailure as e:\n",
    "    # This will catch errors if the command fails (e.g., if the collection doesn't exist)\n",
    "    print(f\"Failed to apply schema validation: {e}\")\n",
    "\n",
    "finally:\n",
    "    # Close the connection\n",
    "    if 'client' in locals():\n",
    "        client.close()"
   ]
  },
  {
   "cell_type": "code",
   "execution_count": null,
   "id": "162147aa-0e8d-451f-a34a-2e217181060e",
   "metadata": {},
   "outputs": [],
   "source": []
  }
 ],
 "metadata": {
  "kernelspec": {
   "display_name": "Python 3 (ipykernel)",
   "language": "python",
   "name": "python3"
  },
  "language_info": {
   "codemirror_mode": {
    "name": "ipython",
    "version": 3
   },
   "file_extension": ".py",
   "mimetype": "text/x-python",
   "name": "python",
   "nbconvert_exporter": "python",
   "pygments_lexer": "ipython3",
   "version": "3.11.13"
  }
 },
 "nbformat": 4,
 "nbformat_minor": 5
}
