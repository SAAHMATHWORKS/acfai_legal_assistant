{
 "cells": [
  {
   "cell_type": "code",
   "execution_count": 83,
   "id": "93a5a376-4c5d-45da-b841-8c8c88c2a394",
   "metadata": {},
   "outputs": [],
   "source": [
    "#!pip install yake\n",
    "#!pip install pdfplumber\n",
    "#!pip install unstructured\n",
    "# !pip install pi-heif\n",
    "# !pip install \"unstructured[local-inference,pdf]\"\n",
    "# !pip install langchain-mongodb\n",
    "\n"
   ]
  },
  {
   "cell_type": "code",
   "execution_count": 1,
   "id": "77c6ac20-bda6-46b2-aed6-13231cd64bde",
   "metadata": {},
   "outputs": [],
   "source": [
    "import os\n",
    "os.environ[\"USER_AGENT\"] = \"MyLangchainApp/1.0 (saahmathworks@gmail.com)\"\n",
    "from langchain.document_loaders import (\n",
    "    PyPDFLoader,\n",
    "    Docx2txtLoader,\n",
    "    CSVLoader,\n",
    "    WebBaseLoader,\n",
    "    DirectoryLoader,\n",
    "    TextLoader\n",
    ")\n",
    "from langchain_community.document_loaders import UnstructuredPDFLoader\n",
    "from langchain_community.document_loaders import PDFPlumberLoader\n",
    "from langchain.text_splitter import RecursiveCharacterTextSplitter\n",
    "from langchain.embeddings import OpenAIEmbeddings\n",
    "from langchain.vectorstores import Chroma\n",
    "from langchain.chat_models import ChatOpenAI\n",
    "from langchain.chains import RetrievalQA\n",
    "from langchain.prompts import PromptTemplate\n",
    "from langchain.memory import ConversationBufferMemory\n",
    "from langchain.chains import ConversationalRetrievalChain\n",
    "from langchain_community.embeddings import HuggingFaceEmbeddings\n",
    "# from langchain_community.vectorstores import MongoDBAtlasVectorSearch\n",
    "from langchain_mongodb.vectorstores import MongoDBAtlasVectorSearch\n",
    "from pymongo import MongoClient\n",
    "import yake\n",
    "import datetime\n",
    "import pymongo\n",
    "import pytesseract\n",
    "from pdf2image import convert_from_path\n",
    "from langchain.schema import Document \n",
    "import yake\n"
   ]
  },
  {
   "cell_type": "code",
   "execution_count": 2,
   "id": "56847f31-ab4c-4a2a-8591-84accf28cc4d",
   "metadata": {},
   "outputs": [
    {
     "name": "stdout",
     "output_type": "stream",
     "text": [
      "Configuration loaded successfully.\n"
     ]
    }
   ],
   "source": [
    "# Load environment variables\n",
    "import os\n",
    "from dotenv import load_dotenv\n",
    "load_dotenv(dotenv_path='./laws/.env')\n",
    "\n",
    "# correctly access the variable by its name, which is 'mongo_uri'\n",
    "MONGO_URI = os.environ.get('mongo_uri')\n",
    "OPENAI_API_KEY = os.getenv(\"OPENAI_API_KEY\")\n",
    "# Ensure API keys and URI are set\n",
    "if not OPENAI_API_KEY:\n",
    "    raise ValueError(\"OPENAI_API_KEY not found. Please set it in your .env file.\")\n",
    "if not MONGO_URI:\n",
    "    raise ValueError(\"MONGO_URI not found. Please set it in your .env file.\")\n",
    "\n",
    "print(\"Configuration loaded successfully.\")"
   ]
  },
  {
   "cell_type": "code",
   "execution_count": 3,
   "id": "880882d8-f265-4ad8-863a-9fa5be4959fc",
   "metadata": {},
   "outputs": [],
   "source": [
    "DB_NAME = \"legal_db\"\n",
    "COLLECTION_NAME = \"legal_documents\""
   ]
  },
  {
   "cell_type": "code",
   "execution_count": 4,
   "id": "8adee2a2-623d-4988-9536-dfe6c7dd8f05",
   "metadata": {},
   "outputs": [
    {
     "name": "stderr",
     "output_type": "stream",
     "text": [
      "/tmp/ipykernel_38731/314806001.py:3: LangChainDeprecationWarning: The class `OpenAIEmbeddings` was deprecated in LangChain 0.0.9 and will be removed in 1.0. An updated version of the class exists in the :class:`~langchain-openai package and should be used instead. To use it run `pip install -U :class:`~langchain-openai` and import as `from :class:`~langchain_openai import OpenAIEmbeddings``.\n",
      "  embedding_model = OpenAIEmbeddings(model=\"text-embedding-ada-002\", openai_api_key=OPENAI_API_KEY)\n"
     ]
    },
    {
     "name": "stdout",
     "output_type": "stream",
     "text": [
      "OpenAI Embeddings model initialized.\n",
      "Connected to MongoDB Atlas database 'legal_db', collection 'legal_documents'.\n",
      "MongoDB connection test successful.\n"
     ]
    }
   ],
   "source": [
    "# --- Initialize OpenAI Embeddings ---\n",
    "# This will be used to generate vectors from your document chunks\n",
    "embedding_model = OpenAIEmbeddings(model=\"text-embedding-ada-002\", openai_api_key=OPENAI_API_KEY)\n",
    "print(\"OpenAI Embeddings model initialized.\")\n",
    "\n",
    "# --- Connect to MongoDB Atlas ---\n",
    "try:\n",
    "    client = MongoClient(MONGO_URI)\n",
    "    db = client[DB_NAME]\n",
    "    collection = db[COLLECTION_NAME]\n",
    "    print(f\"Connected to MongoDB Atlas database '{DB_NAME}', collection '{COLLECTION_NAME}'.\")\n",
    "    # Ping the database to ensure connection is active\n",
    "    client.admin.command('ping')\n",
    "    print(\"MongoDB connection test successful.\")\n",
    "except Exception as e:\n",
    "    print(f\"Error connecting to MongoDB Atlas: {e}\")\n",
    "    # You might want to halt execution if connection fails\n",
    "    raise"
   ]
  },
  {
   "cell_type": "code",
   "execution_count": 5,
   "id": "e7b13690-4802-4818-9811-5d1c129d7f04",
   "metadata": {},
   "outputs": [],
   "source": [
    "# ---------------------------\n",
    "# 1. Load document with OCR fallback\n",
    "# ---------------------------\n",
    "\n",
    "def load_document(file_path, metadata, lang=\"fra\"):\n",
    "    \"\"\"\n",
    "    Load a PDF document. Try PDFPlumber first, and if it fails or returns empty text,\n",
    "    fall back to OCR using Tesseract.\n",
    "    Returns a list of LangChain Document objects.\n",
    "    \"\"\"\n",
    "    try:\n",
    "        loader = PDFPlumberLoader(file_path)\n",
    "        documents = loader.load()\n",
    "\n",
    "        # Check if text content is non-empty\n",
    "        if not any(doc.page_content.strip() for doc in documents):\n",
    "            raise ValueError(\"Empty text, switching to OCR...\")\n",
    "\n",
    "        print(f\"✅ PDFPlumber loaded {len(documents)} pages successfully.\")\n",
    "        return documents\n",
    "\n",
    "    except Exception as e:\n",
    "        print(f\"⚠️ PDFPlumber failed ({e}), switching to OCR...\")\n",
    "\n",
    "        # OCR fallback\n",
    "        try:\n",
    "            images = convert_from_path(file_path)\n",
    "            ocr_docs = []\n",
    "            for i, img in enumerate(images):\n",
    "                text = pytesseract.image_to_string(img, lang=lang).strip()\n",
    "\n",
    "                if not text:\n",
    "                    print(f\"⚠️ OCR page {i+1}/{len(images)} is empty, skipping.\")\n",
    "                    continue\n",
    "\n",
    "                ocr_docs.append(Document(\n",
    "                    page_content=text,\n",
    "                    metadata={**metadata, \"page\": i + 1}\n",
    "                ))\n",
    "\n",
    "                print(f\"📄 OCR page {i+1}/{len(images)} extracted ({len(text)} chars).\")\n",
    "\n",
    "            print(f\"✅ OCR extracted {len(ocr_docs)} pages with text.\")\n",
    "            return ocr_docs\n",
    "\n",
    "        except Exception as ocr_error:\n",
    "            print(f\"❌ OCR failed: {ocr_error}\")\n",
    "            return []\n",
    "\n"
   ]
  },
  {
   "cell_type": "code",
   "execution_count": 6,
   "id": "8ce600e5-e962-4f2c-9b9e-a60180ea5d30",
   "metadata": {},
   "outputs": [],
   "source": [
    "documents_to_process = [\n",
    "    {\n",
    "        \"file_path\": \"./loi-2002-07.pdf\",\n",
    "        \"metadata\": {\n",
    "            \"titre\": \"Loi N° 2002-07 portant Code des personnes et de la famille\",\n",
    "            \"pays\": \"Bénin\",\n",
    "            \"categorie\": \"Code des personnes et de la famille\",\n",
    "            \"langue\": \"Français\",\n",
    "            \"date_publication\": datetime.datetime(2004, 8, 24),\n",
    "            \"url_source\": \"https://sgg.gouv.bj/doc/loi-2002-07/\"\n",
    "        }\n",
    "    }\n",
    "]"
   ]
  },
  {
   "cell_type": "code",
   "execution_count": 7,
   "id": "4beceec0-5974-42a6-86d3-da35f2e6729a",
   "metadata": {},
   "outputs": [
    {
     "name": "stdout",
     "output_type": "stream",
     "text": [
      "⚠️ PDFPlumber failed (Empty text, switching to OCR...), switching to OCR...\n",
      "📄 OCR page 1/124 extracted (2148 chars).\n",
      "📄 OCR page 2/124 extracted (3127 chars).\n",
      "📄 OCR page 3/124 extracted (2766 chars).\n",
      "📄 OCR page 4/124 extracted (3226 chars).\n",
      "📄 OCR page 5/124 extracted (3340 chars).\n",
      "📄 OCR page 6/124 extracted (3330 chars).\n",
      "📄 OCR page 7/124 extracted (3321 chars).\n",
      "📄 OCR page 8/124 extracted (3887 chars).\n",
      "📄 OCR page 9/124 extracted (3489 chars).\n",
      "📄 OCR page 10/124 extracted (3590 chars).\n",
      "📄 OCR page 11/124 extracted (3209 chars).\n",
      "📄 OCR page 12/124 extracted (2796 chars).\n",
      "📄 OCR page 13/124 extracted (3377 chars).\n",
      "📄 OCR page 14/124 extracted (3398 chars).\n",
      "📄 OCR page 15/124 extracted (3101 chars).\n",
      "📄 OCR page 16/124 extracted (3853 chars).\n",
      "📄 OCR page 17/124 extracted (3334 chars).\n",
      "📄 OCR page 18/124 extracted (3033 chars).\n",
      "📄 OCR page 19/124 extracted (3087 chars).\n",
      "📄 OCR page 20/124 extracted (3615 chars).\n",
      "📄 OCR page 21/124 extracted (3740 chars).\n",
      "📄 OCR page 22/124 extracted (2758 chars).\n",
      "📄 OCR page 23/124 extracted (3049 chars).\n",
      "📄 OCR page 24/124 extracted (3174 chars).\n",
      "📄 OCR page 25/124 extracted (3491 chars).\n",
      "📄 OCR page 26/124 extracted (3855 chars).\n",
      "📄 OCR page 27/124 extracted (2807 chars).\n",
      "📄 OCR page 28/124 extracted (3061 chars).\n",
      "📄 OCR page 29/124 extracted (3160 chars).\n",
      "📄 OCR page 30/124 extracted (2888 chars).\n",
      "📄 OCR page 31/124 extracted (2659 chars).\n",
      "📄 OCR page 32/124 extracted (2396 chars).\n",
      "📄 OCR page 33/124 extracted (3289 chars).\n",
      "📄 OCR page 34/124 extracted (2660 chars).\n",
      "📄 OCR page 35/124 extracted (3533 chars).\n",
      "📄 OCR page 36/124 extracted (3363 chars).\n",
      "📄 OCR page 37/124 extracted (3318 chars).\n",
      "📄 OCR page 38/124 extracted (2742 chars).\n",
      "📄 OCR page 39/124 extracted (2561 chars).\n",
      "📄 OCR page 40/124 extracted (2731 chars).\n",
      "📄 OCR page 41/124 extracted (3250 chars).\n",
      "📄 OCR page 42/124 extracted (3269 chars).\n",
      "📄 OCR page 43/124 extracted (3107 chars).\n",
      "📄 OCR page 44/124 extracted (3211 chars).\n",
      "📄 OCR page 45/124 extracted (2701 chars).\n",
      "📄 OCR page 46/124 extracted (2808 chars).\n",
      "📄 OCR page 47/124 extracted (3469 chars).\n",
      "📄 OCR page 48/124 extracted (3467 chars).\n",
      "📄 OCR page 49/124 extracted (3040 chars).\n",
      "📄 OCR page 50/124 extracted (2853 chars).\n",
      "📄 OCR page 51/124 extracted (3051 chars).\n",
      "📄 OCR page 52/124 extracted (3176 chars).\n",
      "📄 OCR page 53/124 extracted (3050 chars).\n",
      "📄 OCR page 54/124 extracted (2601 chars).\n",
      "📄 OCR page 55/124 extracted (3076 chars).\n",
      "📄 OCR page 56/124 extracted (3294 chars).\n",
      "📄 OCR page 57/124 extracted (3234 chars).\n",
      "📄 OCR page 58/124 extracted (3418 chars).\n",
      "📄 OCR page 59/124 extracted (3286 chars).\n",
      "📄 OCR page 60/124 extracted (2521 chars).\n",
      "📄 OCR page 61/124 extracted (3463 chars).\n",
      "📄 OCR page 62/124 extracted (2886 chars).\n",
      "📄 OCR page 63/124 extracted (3058 chars).\n",
      "📄 OCR page 64/124 extracted (3120 chars).\n",
      "📄 OCR page 65/124 extracted (2980 chars).\n",
      "📄 OCR page 66/124 extracted (3709 chars).\n",
      "📄 OCR page 67/124 extracted (3202 chars).\n",
      "📄 OCR page 68/124 extracted (3280 chars).\n",
      "📄 OCR page 69/124 extracted (2862 chars).\n",
      "📄 OCR page 70/124 extracted (3234 chars).\n",
      "📄 OCR page 71/124 extracted (3594 chars).\n",
      "📄 OCR page 72/124 extracted (3681 chars).\n",
      "📄 OCR page 73/124 extracted (3345 chars).\n",
      "📄 OCR page 74/124 extracted (2846 chars).\n",
      "📄 OCR page 75/124 extracted (2721 chars).\n",
      "📄 OCR page 76/124 extracted (3033 chars).\n",
      "📄 OCR page 77/124 extracted (3192 chars).\n",
      "📄 OCR page 78/124 extracted (3118 chars).\n",
      "📄 OCR page 79/124 extracted (3211 chars).\n",
      "📄 OCR page 80/124 extracted (2844 chars).\n",
      "📄 OCR page 81/124 extracted (3351 chars).\n",
      "📄 OCR page 82/124 extracted (3341 chars).\n",
      "📄 OCR page 83/124 extracted (3569 chars).\n",
      "📄 OCR page 84/124 extracted (3040 chars).\n",
      "📄 OCR page 85/124 extracted (3148 chars).\n",
      "📄 OCR page 86/124 extracted (2745 chars).\n",
      "📄 OCR page 87/124 extracted (3090 chars).\n",
      "📄 OCR page 88/124 extracted (3250 chars).\n",
      "📄 OCR page 89/124 extracted (2951 chars).\n",
      "📄 OCR page 90/124 extracted (2962 chars).\n",
      "📄 OCR page 91/124 extracted (3371 chars).\n",
      "📄 OCR page 92/124 extracted (2897 chars).\n",
      "📄 OCR page 93/124 extracted (3472 chars).\n",
      "📄 OCR page 94/124 extracted (3660 chars).\n",
      "📄 OCR page 95/124 extracted (3078 chars).\n",
      "📄 OCR page 96/124 extracted (3372 chars).\n",
      "📄 OCR page 97/124 extracted (3158 chars).\n",
      "📄 OCR page 98/124 extracted (3227 chars).\n",
      "📄 OCR page 99/124 extracted (3090 chars).\n",
      "📄 OCR page 100/124 extracted (3425 chars).\n",
      "📄 OCR page 101/124 extracted (3319 chars).\n",
      "📄 OCR page 102/124 extracted (3071 chars).\n",
      "📄 OCR page 103/124 extracted (2866 chars).\n",
      "📄 OCR page 104/124 extracted (2710 chars).\n",
      "📄 OCR page 105/124 extracted (2583 chars).\n",
      "📄 OCR page 106/124 extracted (3360 chars).\n",
      "📄 OCR page 107/124 extracted (3462 chars).\n",
      "📄 OCR page 108/124 extracted (3506 chars).\n",
      "📄 OCR page 109/124 extracted (3525 chars).\n",
      "📄 OCR page 110/124 extracted (3195 chars).\n",
      "📄 OCR page 111/124 extracted (3569 chars).\n",
      "📄 OCR page 112/124 extracted (3079 chars).\n",
      "📄 OCR page 113/124 extracted (3378 chars).\n",
      "📄 OCR page 114/124 extracted (2840 chars).\n",
      "📄 OCR page 115/124 extracted (3070 chars).\n",
      "📄 OCR page 116/124 extracted (3135 chars).\n",
      "📄 OCR page 117/124 extracted (3283 chars).\n",
      "📄 OCR page 118/124 extracted (3270 chars).\n",
      "📄 OCR page 119/124 extracted (3115 chars).\n",
      "📄 OCR page 120/124 extracted (3303 chars).\n",
      "📄 OCR page 121/124 extracted (2654 chars).\n",
      "📄 OCR page 122/124 extracted (3198 chars).\n",
      "📄 OCR page 123/124 extracted (1844 chars).\n",
      "📄 OCR page 124/124 extracted (432 chars).\n",
      "✅ OCR extracted 124 pages with text.\n"
     ]
    }
   ],
   "source": [
    "docs = []\n",
    "for doc_info in documents_to_process:\n",
    "    file_path = doc_info[\"file_path\"]\n",
    "    metadata = doc_info[\"metadata\"]\n",
    "\n",
    "    ocr_docs = load_document(file_path, metadata, lang=\"fra\")\n",
    "    docs.extend(ocr_docs) \n"
   ]
  },
  {
   "cell_type": "code",
   "execution_count": 8,
   "id": "e2a387c1-581c-4acc-bc91-08d3992436ad",
   "metadata": {},
   "outputs": [
    {
     "name": "stdout",
     "output_type": "stream",
     "text": [
      "data type of docs is;  <class 'list'> and it length is:  124\n"
     ]
    }
   ],
   "source": [
    "print(\"data type of docs is; \", type(docs), \"and it length is: \", len(docs))"
   ]
  },
  {
   "cell_type": "code",
   "execution_count": 9,
   "id": "c6683ab6-480f-495d-9bdc-2b129bfdbb63",
   "metadata": {},
   "outputs": [
    {
     "data": {
      "text/plain": [
       "Document(metadata={'titre': 'Loi N° 2002-07 portant Code des personnes et de la famille', 'pays': 'Bénin', 'categorie': 'Code des personnes et de la famille', 'langue': 'Français', 'date_publication': datetime.datetime(2004, 8, 24, 0, 0), 'url_source': 'https://sgg.gouv.bj/doc/loi-2002-07/', 'page': 7}, page_content=\"- Les volets n° 2 sont transmis au greffe du tribunal de première instance territorialement\\ncompétent ;\\n\\n- Les volets n° 1 sont remis immédiatement et sans frais au déclarant.\\n\\nAtticle 39 : Les procurations et autres pièces qui doivent demeurer annexées aux actes de\\nl'état civil, sont cotées par référence à l'acte qu'elles concernent, classées chronologiquement par\\nnature et date de l'acte et, en fin d'année, enliassées pour être transmises au greffe du tribunal de\\npremière instance.\\n\\nPour chaque registre, l'officier de l'état civil tient en outre, en annexe, un répertoire de\\nfeuilles mobiles alphabétiques en double exemplaire, qui sera relié à la fin de chaque année à la clôture\\ndes registres et fera l'objet d'un double dépôt comme le registre auquel il est annexé.\\n\\nSur chaque feuille portant la même lettre que la première du nom de l'intéressé, seront\\ninscrits, au moment de la rédaction des actes, les nom et prénoms, la nature de l'acte et son numéro\\nd'enregistrement sur les registres.\\n\\nLe modèle des feuilles du répertoire sera fixé par arrêté conjoint du ministre chargé de l'état\\ncivil et du ministre chargé de la justice.\\n\\nArticle 49 : Les cahiers et registres sont ouverts le 1er janvier et clos le 31 décembre de\\nchaque année.\\n\\nIls sont cotés et paraphés par premier et dernier feuillets par le président du tribunal de\\npremière instance.\\n\\nIl sera tenu un registre des actes de naissance, un registre des actes de mariage et un\\nregistre des actes de décès.\\n\\nArticle 41 : Les actes de reconnaissance sont dressés sur un feuillet du registre des actes\\nde naissance suivant les modalités prévues par la réglementation en vigueur.\\n\\n- Les blancs qui n'ont pas été remplis lors de l'établissement des actes sont bâtonnés. Les\\nratures et renvois sont approuvés et signés de la même manière que le corps de l'acte.\\n\\n- Les mentions marginales sont signées par l'officier de l'état civil qui les accomplit.\\n\\n- Les actes de l'état civil sont rédigés dans la langue officielle. !ls sont établis sur le champ, de\\nfeuillet en feuillet, et chacun des trois volets doit être immédiatement rempli et signé.\\n\\n= Tout acte de l'état civil énonce l'année, le mois et le jour de son établissement, puis l'année, le\\nmois, le jour et l'heure de l'évènement d'état civil survenu ; les prénoms, noms, professions, domicile,\\ndate et lieu de naissance de ceux qui y sont dénommés.\\n\\n- L'officier de l'état civil est tenu, à la fin de chaque trimestre, sous peine de sanction, d'adresser\\nau service national des statistiques, un état des naissances, des mariages, des divorces, des décès et\\ndes enfants sans vie inscrits au cours du trimestre.\\n\\nArticle 42 : L'officier de l'état civil, assisté d'un interprète au cas où lui-même ne peut\\nremplir cet office, donne lecture des actes aux parties comparantes et aux témoins ; il les invite à en\\nprendre directement connaissance et il est fait mention de ces formalités.\\n\\nCes actes sont ensuite signés par l'officier de l'état civil ainsi que par les comparants et, s’il\\ny a lieu, les témoins et l'interprète ; à défaut, mention est faite de la cause qui empêche ces derniers de\\nsigner.\\n\\nArticle 43 : Tout acte de l'état civil des Béninois et des étrangers dressé en pays étranger\\nfait foi s'il a été rédigé dans les formes usitées dans ce pays ou en forme diplomatique et consulaire\")"
      ]
     },
     "execution_count": 9,
     "metadata": {},
     "output_type": "execute_result"
    }
   ],
   "source": [
    "docs[6]"
   ]
  },
  {
   "cell_type": "code",
   "execution_count": 10,
   "id": "a2b0ae49-c8be-49b2-ac5c-33208a7c0e8d",
   "metadata": {},
   "outputs": [],
   "source": [
    "# ---------------------------\n",
    "# 2. Split text into chunks\n",
    "# ---------------------------\n",
    "from langchain_text_splitters import RecursiveCharacterTextSplitter\n",
    "from langchain.schema import Document\n",
    "\n",
    "def split_documents(documents, chunk_size=1000, chunk_overlap=150):\n",
    "    \"\"\"\n",
    "    Split a list of LangChain Document objects into smaller chunks.\n",
    "    \n",
    "    Args:\n",
    "        documents (list[Document]): The documents to split (from load_document).\n",
    "        chunk_size (int): Maximum size of each text chunk in characters.\n",
    "        chunk_overlap (int): Number of characters to overlap between chunks.\n",
    "\n",
    "    Returns:\n",
    "        list[Document]: A new list of Document objects, where each page is split\n",
    "                        into smaller chunks with preserved metadata.\n",
    "    \"\"\"\n",
    "    text_splitter = RecursiveCharacterTextSplitter(\n",
    "        chunk_size=chunk_size,\n",
    "        chunk_overlap=chunk_overlap,\n",
    "        length_function=len\n",
    "    )\n",
    "\n",
    "    chunks = text_splitter.split_documents(documents)\n",
    "    print(f\"✅ Split {len(documents)} documents into {len(chunks)} chunks.\")\n",
    "    return chunks\n"
   ]
  },
  {
   "cell_type": "code",
   "execution_count": 11,
   "id": "e4983566-4c7b-4f31-b9f3-8a2351de6472",
   "metadata": {},
   "outputs": [
    {
     "name": "stdout",
     "output_type": "stream",
     "text": [
      "✅ Split 124 documents into 494 chunks.\n"
     ]
    }
   ],
   "source": [
    "# Apply the splitter\n",
    "chunks = split_documents(docs, chunk_size=1000, chunk_overlap=150)\n",
    "\n",
    "\n"
   ]
  },
  {
   "cell_type": "code",
   "execution_count": 15,
   "id": "ef51fcd6-b3b6-49b1-b9e7-a9f7da4cc419",
   "metadata": {},
   "outputs": [
    {
     "name": "stdout",
     "output_type": "stream",
     "text": [
      "\n",
      "--- Chunk 1 (page 5) ---\n",
      "\n",
      "--- Chunk 1 (page {'titre': 'Loi N° 2002-07 portant Code des personnes et de la famille', 'pays': 'Bénin', 'categorie': 'Code des personnes et de la famille', 'langue': 'Français', 'date_publication': datetime.datetime(2004, 8, 24, 0, 0), 'url_source': 'https://sgg.gouv.bj/doc/loi-2002-07/', 'page': 5}) ---\n",
      "Article 28 : L'affaire est instruite et jugée en chambre du conseil. Tous les actes de la\n",
      "procédure ainsi que les expéditions et extraits desdits actes sont dispensés du timbre et enregistrés\n",
      "gratis. Si le tribunal estime que le décès n'est pas suffisamment établi, il peut ordonner toute mesure\n",
      "d'information complémentaire et requérir notamment une enquête administrative sur les circonstances\n",
      "de la disparition. Si le décès est déclaré, sa date doit être fixée en tenant compte des présomptions\n",
      "tirées des circonstances de la cause et, à défaut, au jour de la disparition. Cette date ne doit jamais être\n",
      "indéterminée.\n",
      "\n",
      "Article 29 : Le dispositif du jugement déclaratif de décès doit être transcrit, selon les\n",
      "modalités prévues à l'article 84, sur les registres de l'état civil du lieu réel ou présumé du décès et, le\n",
      "cas échéant, sur ceux du lieu du dernier domicile.\n",
      "\n",
      "--- Chunk 2 (page 5) ---\n",
      "\n",
      "--- Chunk 2 (page {'titre': 'Loi N° 2002-07 portant Code des personnes et de la famille', 'pays': 'Bénin', 'categorie': 'Code des personnes et de la famille', 'langue': 'Français', 'date_publication': datetime.datetime(2004, 8, 24, 0, 0), 'url_source': 'https://sgg.gouv.bj/doc/loi-2002-07/', 'page': 5}) ---\n",
      "Mention de la transcription est faite aux registres à la date du décès, en marge de l'acte de\n",
      "naissance et, éventuellement, en marge de l'acte de mariage. En cas de jugement collectif, des extraits\n",
      "individuels du dispositif sont transmis aux officiers de l'état civil compétents, en vue de la transcription.\n",
      "\n",
      "Article 30 : Les jugements déclaratifs du décès de l'absent et du disparu ont la même\n",
      "valeur probante que les actes de décès.\n",
      "\n",
      "Article 31 : Si l'absent reparaît avant le jugement déclaratif de décès, il reprend la totalité\n",
      "de ses biens à sa demande ou à la demande de tout intéressé. L'administrateur provisoire lui rend\n",
      "compte de sa gestion. Les actes d'aliénation régulièrement conclus lui sont opposables.\n",
      "\n",
      "Il recouvrera le prix des biens aliénés ou les biens provenant de l'emploi qui aura été fait\n",
      "du prix de ses biens aliénés.\n",
      "\n",
      "--- Chunk 3 (page 5) ---\n",
      "\n",
      "--- Chunk 3 (page {'titre': 'Loi N° 2002-07 portant Code des personnes et de la famille', 'pays': 'Bénin', 'categorie': 'Code des personnes et de la famille', 'langue': 'Français', 'date_publication': datetime.datetime(2004, 8, 24, 0, 0), 'url_source': 'https://sgg.gouv.bj/doc/loi-2002-07/', 'page': 5}) ---\n",
      "Il recouvrera le prix des biens aliénés ou les biens provenant de l'emploi qui aura été fait\n",
      "du prix de ses biens aliénés.\n",
      "\n",
      "Si l'absent ou le disparu reparaît après le jugement déclaratif de décès, il reprend ses biens\n",
      "dans l'état où ils se trouvent sans pouvoir prétendre à la restitution des biens aliénés.\n",
      "\n",
      "Article 32 : Le mariage de l'absent est dissous à compter du jour où le jugement déclarant\n",
      "l'absence est devenu définitif, Son conjoint a le droit de se remarier.\n",
      "\n",
      "Lorsque l'absent reparaît avant le jugement déclaratif de décës, le nouveau mariage que\n",
      "son conjoint aurait obtenu ne lui est pas opposable.\n",
      "\n",
      "Lorsque l'absent ou le disparu reparaît après le jugement déclaratif de décès, le nouveau\n",
      "mariage de son conjoint lui est opposable. |l en est de même du divorce que le conjoint aurait obtenu\n",
      "après le jugement déclaratif d'absence. |\n",
      "\n",
      "Quel que soit le moment où l'absent ou le disparu reparaît, les enfants cessent d'être\n",
      "\n",
      "--- Chunk 4 (page 5) ---\n",
      "\n",
      "--- Chunk 4 (page {'titre': 'Loi N° 2002-07 portant Code des personnes et de la famille', 'pays': 'Bénin', 'categorie': 'Code des personnes et de la famille', 'langue': 'Français', 'date_publication': datetime.datetime(2004, 8, 24, 0, 0), 'url_source': 'https://sgg.gouv.bj/doc/loi-2002-07/', 'page': 5}) ---\n",
      "Quel que soit le moment où l'absent ou le disparu reparaît, les enfants cessent d'être\n",
      "\n",
      "soumis au régime de l'administration légale ou de la tutelle. Dans le cas de divorce ou de remariage,\n",
      "opposable au conjoint qui reparaît, le juge statuera sur ja garde des enfants au mieux de leurs intérêts. LD\n",
      "\n",
      "--- Chunk 5 (page 6) ---\n",
      "\n",
      "--- Chunk 5 (page {'titre': 'Loi N° 2002-07 portant Code des personnes et de la famille', 'pays': 'Bénin', 'categorie': 'Code des personnes et de la famille', 'langue': 'Français', 'date_publication': datetime.datetime(2004, 8, 24, 0, 0), 'url_source': 'https://sgg.gouv.bj/doc/loi-2002-07/', 'page': 6}) ---\n",
      "TITRE Il : DE L'ETAT CIVIL\n",
      "CHAPITRE 1 : DES DISPOSITIONS GENERALES\n",
      "\n",
      "Aiicle 33 : L'état des personnes n'est établi et ne peut être prouvé que par les actes de\n",
      "l'état civil, les jugements ou arrêts en tenant lieu et, exceptionnellement, les actes de notoriété.\n",
      "\n",
      "Article 34 : Les naissances, les mariages et les décès sont constatés sur des registres\n",
      "tenus dans les centres d'état civil selon les modalités fixées par décret.\n",
      "\n",
      "Les autres faits ou actes concernant l'état des personnes font l'objet d'une mention au\n",
      "registre d'état civil.\n",
      "\n",
      "Ils sont prouvés au moyen de copies ou d'extraits des actes inscrits sur ces registres,\n",
      "délivrés dans les conditions fixées par décret.\n",
      "\n",
      "Article 35 : Les personnes qualifiées pour l'enregistrement des déclarations et\n",
      "\n",
      "l'établissement des actes dans les centres d'état civil, sont, selon les cas, les agents de déclaration\n",
      "d'état civil et les officiers de l'état civil.\n",
      "\n",
      "Les actes de l'état civil sont établis par les officiers de l'état civil.\n"
     ]
    }
   ],
   "source": [
    "# Quick check: print first 300 chars of the first 2 chunks\n",
    "for i, chunk in enumerate(chunks[15:20]):\n",
    "    print(f\"\\n--- Chunk {i+1} (page {chunk.metadata.get('page', 'N/A')}) ---\")\n",
    "    print(f\"\\n--- Chunk {i+1} (page {chunk.metadata}) ---\")\n",
    "    print(chunk.page_content)\n",
    "    # print(chunk.page_content[:1000], \"...\")"
   ]
  },
  {
   "cell_type": "code",
   "execution_count": 16,
   "id": "7ea1c1f1-ee6a-450b-9e44-ae6a176ee4a4",
   "metadata": {},
   "outputs": [
    {
     "name": "stdout",
     "output_type": "stream",
     "text": [
      "data type of chunks is;  <class 'list'> and it length is:  494\n"
     ]
    }
   ],
   "source": [
    "print(\"data type of chunks is; \", type(chunks), \"and it length is: \", len(chunks))"
   ]
  },
  {
   "cell_type": "code",
   "execution_count": 23,
   "id": "93135a4d-c6fc-4537-87a8-bf0c41ee3901",
   "metadata": {},
   "outputs": [],
   "source": [
    "import yake\n",
    "import re\n",
    "from typing import List, Dict, Any\n",
    "from langchain.docstore.document import Document\n",
    "import pymongo\n",
    "\n",
    "# ---------------------------\n",
    "# Enhanced Pre-processing with Article Reference Extraction\n",
    "# ---------------------------\n",
    "\n",
    "def extract_article_references(text: str) -> List[str]:\n",
    "    \"\"\"\n",
    "    Extract all article references from text with improved pattern matching.\n",
    "    \"\"\"\n",
    "    # Enhanced patterns for legal document references\n",
    "    patterns = [\n",
    "        r\"article\\s+(\\d+)(?:\\s+de\\s+la\\s+même\\s+loi)?\",  # \"article 7\" or \"article 7 de la même loi\"\n",
    "        r\"art\\.?\\s*(\\d+)\",  # \"art. 7\" or \"art 7\"\n",
    "        r\"article\\s+(\\d+)\\s+ci-?dessus\",  # \"article 7 ci-dessus\"\n",
    "        r\"article\\s+(\\d+)\\s+ci-?dessous\",  # \"article 7 ci-dessous\"\n",
    "        r\"article\\s+(\\d+)\\s+précédent\",  # \"article 7 précédent\"\n",
    "        r\"article\\s+(\\d+)\\s+suivant\",  # \"article 7 suivant\"\n",
    "        r\"aux\\s+articles?\\s+(\\d+)\",  # \"aux articles 7 et 8\"\n",
    "        r\"l'article\\s+(\\d+)\",  # \"l'article 7\"\n",
    "        r\"des?\\s+articles?\\s+(\\d+)\",  # \"de l'article 7\"\n",
    "    ]\n",
    "    \n",
    "    references = set()\n",
    "    \n",
    "    for pattern in patterns:\n",
    "        matches = re.findall(pattern, text, re.IGNORECASE | re.UNICODE)\n",
    "        for match in matches:\n",
    "            # Handle multiple articles in one reference: \"articles 7, 8 et 9\"\n",
    "            if ',' in match or 'et' in match:\n",
    "                # Split complex references\n",
    "                numbers = re.findall(r'\\d+', match)\n",
    "                references.update(numbers)\n",
    "            else:\n",
    "                references.add(match)\n",
    "    \n",
    "    return list(references)"
   ]
  },
  {
   "cell_type": "code",
   "execution_count": 24,
   "id": "6152626a-2de5-4664-a949-a250ede54344",
   "metadata": {},
   "outputs": [
    {
     "data": {
      "text/plain": [
       "['28', '84', '29']"
      ]
     },
     "execution_count": 24,
     "metadata": {},
     "output_type": "execute_result"
    }
   ],
   "source": [
    "# Test function\n",
    "content =\"\"\"\n",
    "Article 28 : L'affaire est instruite et jugée en chambre du conseil. Tous les actes de la\n",
    "procédure ainsi que les expéditions et extraits desdits actes sont dispensés du timbre et enregistrés\n",
    "gratis. Si le tribunal estime que le décès n'est pas suffisamment établi, il peut ordonner toute mesure\n",
    "d'information complémentaire et requérir notamment une enquête administrative sur les circonstances\n",
    "de la disparition. Si le décès est déclaré, sa date doit être fixée en tenant compte des présomptions\n",
    "tirées des circonstances de la cause et, à défaut, au jour de la disparition. Cette date ne doit jamais être\n",
    "indéterminée.\n",
    "\n",
    "Article 29 : Le dispositif du jugement déclaratif de décès doit être transcrit, selon les\n",
    "modalités prévues à l'article 84, sur les registres de l'état civil du lieu réel ou présumé du décès et, le\n",
    "cas échéant, sur ceux du lieu du dernier domicile.\n",
    "\"\"\"\n",
    "extract_article_references(content)"
   ]
  },
  {
   "cell_type": "code",
   "execution_count": 25,
   "id": "04ffa007-8f61-4fbf-9b93-f08bfe55d64a",
   "metadata": {},
   "outputs": [],
   "source": [
    "def extract_article_numbers_from_chunk(text: str) -> List[str]:\n",
    "    \"\"\"\n",
    "    Extract ALL article numbers defined in a chunk.\n",
    "    \"\"\"\n",
    "    # Pattern to match article definitions\n",
    "    patterns = [\n",
    "        r\"Article\\s+(\\d+)\\s*[:.-]\",  # \"Article 28 :\"\n",
    "        r\"ARTICLE\\s+(\\d+)\\s*[:.-]\",  # \"ARTICLE 28 :\"\n",
    "        r\"Art\\.?\\s*(\\d+)\\s*[:.-]\",   # \"Art. 28 :\"\n",
    "    ]\n",
    "    \n",
    "    articles = set()\n",
    "    \n",
    "    for pattern in patterns:\n",
    "        matches = re.findall(pattern, text)\n",
    "        articles.update(matches)\n",
    "    \n",
    "    return list(articles)"
   ]
  },
  {
   "cell_type": "code",
   "execution_count": 26,
   "id": "518ccfe9-384e-44b1-af80-25f0e3e89249",
   "metadata": {},
   "outputs": [
    {
     "data": {
      "text/plain": [
       "['28', '29']"
      ]
     },
     "execution_count": 26,
     "metadata": {},
     "output_type": "execute_result"
    }
   ],
   "source": [
    "extract_article_numbers_from_chunk(content)"
   ]
  },
  {
   "cell_type": "code",
   "execution_count": 28,
   "id": "94740bd1-6952-422f-a149-2bee1f9554cd",
   "metadata": {},
   "outputs": [
    {
     "data": {
      "text/plain": [
       "['14']"
      ]
     },
     "execution_count": 28,
     "metadata": {},
     "output_type": "execute_result"
    }
   ],
   "source": [
    "extract_articles_from_query(\"Que dit l'article 14 du code penal\")"
   ]
  },
  {
   "cell_type": "code",
   "execution_count": 30,
   "id": "8bffc279-0984-4add-a998-7e6efb08206b",
   "metadata": {},
   "outputs": [],
   "source": [
    "def embed_chunks_article_focused(chunks, embedding_model, lang=\"fr\"):\n",
    "    \"\"\"\n",
    "    Embedding function focused on article extraction.\n",
    "    \"\"\"\n",
    "    embedded_chunks = []\n",
    "\n",
    "    for chunk in chunks:\n",
    "        content = chunk.page_content.strip()\n",
    "        if not content:\n",
    "            continue\n",
    "\n",
    "        # Extract article references and articles defined in this chunk\n",
    "        article_references = extract_article_references(content)\n",
    "        articles_in_chunk = extract_article_numbers_from_chunk(content)\n",
    "\n",
    "        try:\n",
    "            embedding_vector = embedding_model.embed_query(content)\n",
    "        except Exception as e:\n",
    "            print(f\"❌ Error creating embedding: {e}. Skipping chunk.\")\n",
    "            continue\n",
    "\n",
    "        embedded_chunks.append({\n",
    "            \"contenu\": content,\n",
    "            \"vecteur_embedding\": embedding_vector,\n",
    "            \"article_references\": article_references,\n",
    "            \"articles_in_chunk\": articles_in_chunk,\n",
    "            \"metadata\": chunk.metadata  # Keep original metadata\n",
    "        })\n",
    "\n",
    "    print(f\"✅ Generated embeddings for {len(embedded_chunks)} chunks\")\n",
    "    \n",
    "    # Log article statistics\n",
    "    total_articles = sum(len(chunk[\"articles_in_chunk\"]) for chunk in embedded_chunks)\n",
    "    total_references = sum(len(chunk[\"article_references\"]) for chunk in embedded_chunks)\n",
    "    print(f\"📊 Found {total_articles} article definitions and {total_references} article references\")\n",
    "    \n",
    "    return embedded_chunks"
   ]
  },
  {
   "cell_type": "code",
   "execution_count": 31,
   "id": "b86554b1-0cc1-4ad0-b352-127a22df9ade",
   "metadata": {},
   "outputs": [
    {
     "name": "stdout",
     "output_type": "stream",
     "text": [
      "✅ Generated embeddings for 494 chunks with article reference analysis.\n",
      "📊 Found 817 article definitions and 931 article references across all chunks.\n"
     ]
    }
   ],
   "source": [
    "# Step 3: Embed chunks\n",
    "embedded_chunks = embed_chunks_article_focused(chunks, embedding_model)"
   ]
  },
  {
   "cell_type": "code",
   "execution_count": 32,
   "id": "9d200a3e-b7f0-4575-8bee-1a22ed2c9bc0",
   "metadata": {},
   "outputs": [
    {
     "data": {
      "text/plain": [
       "list"
      ]
     },
     "execution_count": 32,
     "metadata": {},
     "output_type": "execute_result"
    }
   ],
   "source": [
    "type(embedded_chunks)"
   ]
  },
  {
   "cell_type": "code",
   "execution_count": 33,
   "id": "1eb1a86c-d1a6-46b1-a1f2-5c2bdc5ea5ed",
   "metadata": {},
   "outputs": [
    {
     "data": {
      "text/plain": [
       "dict"
      ]
     },
     "execution_count": 33,
     "metadata": {},
     "output_type": "execute_result"
    }
   ],
   "source": [
    "type(embedded_chunks[5])"
   ]
  },
  {
   "cell_type": "code",
   "execution_count": 37,
   "id": "c919d8a0-a902-4ee3-b1c1-03a40841d483",
   "metadata": {},
   "outputs": [],
   "source": [
    "#embedded_chunks[5]"
   ]
  },
  {
   "cell_type": "code",
   "execution_count": 38,
   "id": "91497523-f5ad-438b-af4a-4f1329955a13",
   "metadata": {},
   "outputs": [],
   "source": [
    "def temporarily_disable_validation():\n",
    "    \"\"\"\n",
    "    Temporarily disable schema validation for updates.\n",
    "    \"\"\"\n",
    "    try:\n",
    "        client = MongoClient(MONGO_URI)\n",
    "        db = client[DB_NAME]\n",
    "        \n",
    "        # Disable validation\n",
    "        db.command(\"collMod\", COLLECTION_NAME, validator={})\n",
    "        print(\"🔓 Schema validation temporarily disabled\")\n",
    "        \n",
    "        # Process your documents here...\n",
    "        \n",
    "        # Re-enable validation\n",
    "        # db.command(\"collMod\", COLLECTION_NAME, validator=schema_validator)\n",
    "        # print(\"🔒 Schema validation re-enabled\")\n",
    "        \n",
    "    except Exception as e:\n",
    "        print(f\"Error: {e}\")\n",
    "    finally:\n",
    "        client.close()"
   ]
  },
  {
   "cell_type": "code",
   "execution_count": 42,
   "id": "bc372ce6-0e67-48c7-be13-ed79f7b5386b",
   "metadata": {},
   "outputs": [],
   "source": [
    "temporarily_disable_validation()"
   ]
  },
  {
   "cell_type": "code",
   "execution_count": 36,
   "id": "a2196c24-d172-4289-8166-e01112430769",
   "metadata": {},
   "outputs": [],
   "source": [
    "\n",
    "# ---------------------------\n",
    "# 4. Save to MongoDB\n",
    "# ---------------------------\n",
    "def save_to_mongodb_article_focused(embedded_chunks, collection, base_metadata, batch_size=100):\n",
    "    \"\"\"\n",
    "    Save chunks with article reference resolution (simplified, no keywords).\n",
    "    \"\"\"\n",
    "    if not embedded_chunks:\n",
    "        print(\"⚠️ No chunks to save.\")\n",
    "        return\n",
    "\n",
    "    # Delete existing documents with same url_source\n",
    "    existing_count = collection.count_documents({\"url_source\": base_metadata['url_source']})\n",
    "    if existing_count > 0:\n",
    "        result = collection.delete_many({\"url_source\": base_metadata['url_source']})\n",
    "        print(f\"🗑️ Deleted {result.deleted_count} existing documents\")\n",
    "\n",
    "    # Build article mapping for the entire document\n",
    "    article_mapping = {}\n",
    "    for chunk in embedded_chunks:\n",
    "        for article_num in chunk[\"articles_in_chunk\"]:\n",
    "            article_mapping[article_num] = chunk[\"contenu\"]\n",
    "\n",
    "    print(f\"📚 Built article mapping with {len(article_mapping)} articles\")\n",
    "\n",
    "    # Prepare documents for insertion\n",
    "    documents_to_insert = []\n",
    "    for chunk in embedded_chunks:\n",
    "        # Resolve references within the same document\n",
    "        resolved_references = {}\n",
    "        for ref_article in chunk[\"article_references\"]:\n",
    "            if ref_article in article_mapping:\n",
    "                resolved_references[ref_article] = article_mapping[ref_article]\n",
    "\n",
    "        doc_to_save = {\n",
    "            **base_metadata,\n",
    "            \"contenu\": chunk[\"contenu\"],\n",
    "            \"vecteur_embedding\": chunk[\"vecteur_embedding\"],\n",
    "            \"article_references\": chunk[\"article_references\"],\n",
    "            \"articles_in_chunk\": chunk[\"articles_in_chunk\"],\n",
    "            \"resolved_references\": resolved_references,\n",
    "            \"page\": chunk[\"metadata\"].get(\"page\", \"N/A\")\n",
    "        }\n",
    "\n",
    "        documents_to_insert.append(doc_to_save)\n",
    "\n",
    "    # Insert in batches\n",
    "    try:\n",
    "        total_inserted = 0\n",
    "        for i in range(0, len(documents_to_insert), batch_size):\n",
    "            batch = documents_to_insert[i:i + batch_size]\n",
    "            result = collection.insert_many(batch)\n",
    "            inserted_count = len(result.inserted_ids)\n",
    "            total_inserted += inserted_count\n",
    "            \n",
    "            print(f\"✅ Inserted batch {i//batch_size + 1} ({inserted_count} docs)\")\n",
    "            \n",
    "        print(f\"🎉 Successfully stored {total_inserted} chunks with article references\")\n",
    "            \n",
    "    except Exception as e:\n",
    "        print(f\"❌ Failed to insert into MongoDB: {e}\")"
   ]
  },
  {
   "cell_type": "code",
   "execution_count": 41,
   "id": "9e52729c-8d20-4709-928c-e8031f307ad3",
   "metadata": {},
   "outputs": [
    {
     "data": {
      "text/plain": [
       "{'titre': 'Loi N° 2002-07 portant Code des personnes et de la famille',\n",
       " 'pays': 'Bénin',\n",
       " 'categorie': 'Code des personnes et de la famille',\n",
       " 'langue': 'Français',\n",
       " 'date_publication': datetime.datetime(2004, 8, 24, 0, 0),\n",
       " 'url_source': 'https://sgg.gouv.bj/doc/loi-2002-07/'}"
      ]
     },
     "execution_count": 41,
     "metadata": {},
     "output_type": "execute_result"
    }
   ],
   "source": [
    "metadata"
   ]
  },
  {
   "cell_type": "code",
   "execution_count": 44,
   "id": "ddfd6cae-0415-4adb-9343-82efc1f1f586",
   "metadata": {},
   "outputs": [
    {
     "data": {
      "text/plain": [
       "{'titre': 'Loi N° 2002-07 portant Code des personnes et de la famille',\n",
       " 'pays': 'Bénin',\n",
       " 'categorie': 'Code des personnes et de la famille',\n",
       " 'langue': 'Français',\n",
       " 'date_publication': datetime.datetime(2004, 8, 24, 0, 0),\n",
       " 'url_source': 'https://sgg.gouv.bj/doc/loi-2002-07/',\n",
       " 'page': 2}"
      ]
     },
     "execution_count": 44,
     "metadata": {},
     "output_type": "execute_result"
    }
   ],
   "source": [
    "embedded_chunks[5].get('metadata')"
   ]
  },
  {
   "cell_type": "code",
   "execution_count": 40,
   "id": "6699a323-e3e1-4630-86cc-16fae806a2e3",
   "metadata": {},
   "outputs": [
    {
     "name": "stdout",
     "output_type": "stream",
     "text": [
      "🗑️ Deleted 494 existing documents\n",
      "📚 Built article mapping with 781 articles\n",
      "✅ Inserted batch 1 (100 docs)\n",
      "✅ Inserted batch 2 (100 docs)\n",
      "✅ Inserted batch 3 (100 docs)\n",
      "✅ Inserted batch 4 (100 docs)\n",
      "✅ Inserted batch 5 (94 docs)\n",
      "🎉 Successfully stored 494 chunks with article references\n"
     ]
    }
   ],
   "source": [
    "# Step 4: Save to MongoDB\n",
    "\n",
    "save_to_mongodb_article_focused(embedded_chunks, collection, metadata)"
   ]
  },
  {
   "cell_type": "code",
   "execution_count": null,
   "id": "1a6e346d-75cb-479f-a5a2-59d1e743463c",
   "metadata": {},
   "outputs": [],
   "source": [
    "# test "
   ]
  },
  {
   "cell_type": "code",
   "execution_count": 45,
   "id": "2366d218-9d0e-4fce-b721-5fec95c81b52",
   "metadata": {},
   "outputs": [],
   "source": [
    "def enhance_with_article_context(results, collection):\n",
    "    \"\"\"\n",
    "    Enhance search results with referenced article content.\n",
    "    \"\"\"\n",
    "    enhanced_results = []\n",
    "    \n",
    "    for result in results:\n",
    "        enhanced_results.append(result)\n",
    "        \n",
    "        # Extract article references from metadata\n",
    "        article_refs = result.metadata.get('article_references', [])\n",
    "        resolved_refs = result.metadata.get('resolved_references', {})\n",
    "        \n",
    "        # Add referenced articles as additional context\n",
    "        for article_num in article_refs[:3]:  # Limit to top 3 references\n",
    "            if article_num in resolved_refs:\n",
    "                # Create a pseudo-document for the reference\n",
    "                from langchain.schema import Document\n",
    "                ref_doc = Document(\n",
    "                    page_content=f\"Article {article_num} (Référencé): {resolved_refs[article_num][:500]}...\",\n",
    "                    metadata={\n",
    "                        **result.metadata,\n",
    "                        \"is_reference\": True,\n",
    "                        \"referenced_article\": article_num,\n",
    "                        \"original_article\": result.metadata.get('articles_in_chunk', [])\n",
    "                    }\n",
    "                )\n",
    "                enhanced_results.append(ref_doc)\n",
    "    \n",
    "    return enhanced_results"
   ]
  },
  {
   "cell_type": "code",
   "execution_count": 46,
   "id": "998b8828-403c-419f-8c85-727cb619a062",
   "metadata": {},
   "outputs": [],
   "source": [
    "# 1. Create basic retriever\n",
    "vectorstore = MongoDBAtlasVectorSearch(\n",
    "    collection=collection,\n",
    "    embedding=embedding_model,\n",
    "    index_name=\"vector_index\",\n",
    "    text_key=\"contenu\",\n",
    "    embedding_key=\"vecteur_embedding\"\n",
    ")\n",
    "\n",
    "retriever = vectorstore.as_retriever(search_kwargs={\"k\": 10})"
   ]
  },
  {
   "cell_type": "code",
   "execution_count": 54,
   "id": "09113055-047b-4f7a-a286-16faea822a08",
   "metadata": {},
   "outputs": [],
   "source": [
    "import re\n",
    "\n",
    "def smart_legal_query(user_query):\n",
    "    \"\"\"\n",
    "    Fully automatic detection of articles, country, law, and category from natural language.\n",
    "    \"\"\"\n",
    "    \n",
    "    pre_filter = {}\n",
    "    detected_articles = []\n",
    "    \n",
    "    query_lower = user_query.lower()\n",
    "    \n",
    "    # 1. AUTO-DETECT ARTICLE NUMBERS\n",
    "    article_patterns = [\n",
    "        r'article[s]?\\s+(\\d+(?:\\s+(?:et|à|\\-)\\s+\\d+)*)',  # article 125, articles 145 et 150\n",
    "        r'art\\.?\\s*(\\d+(?:\\s+(?:et|à|\\-)\\s+\\d+)*)',       # art. 125, art 130-135\n",
    "        r'articles?\\s+(\\d+)\\s*à\\s*(\\d+)',                 # article 125 à 130\n",
    "        r'art\\.?\\s*(\\d+)\\s*au\\s*(\\d+)',                   # art. 125 au 130\n",
    "    ]\n",
    "    \n",
    "    for pattern in article_patterns:\n",
    "        matches = re.findall(pattern, query_lower)\n",
    "        for match in matches:\n",
    "            if isinstance(match, tuple):\n",
    "                # Handle ranges like \"125 à 130\"\n",
    "                numbers = []\n",
    "                for num in match:\n",
    "                    if num.isdigit():\n",
    "                        numbers.append(num)\n",
    "                detected_articles.extend(numbers)\n",
    "            else:\n",
    "                # Handle single articles or lists\n",
    "                numbers = re.findall(r'\\d+', match)\n",
    "                detected_articles.extend(numbers)\n",
    "    \n",
    "    # Remove duplicates and sort\n",
    "    detected_articles = sorted(list(set(detected_articles)))\n",
    "    \n",
    "    # 2. AUTO-DETECT COUNTRY (your existing code)\n",
    "    country_keywords = {\n",
    "        \"bénin\": \"Bénin\", \"béninoise\": \"Bénin\", \"béninois\": \"Bénin\",\n",
    "        \"madagascar\": \"Madagascar\", \"malgache\": \"Madagascar\",\n",
    "        # Add more...\n",
    "    }\n",
    "    \n",
    "    for keyword, country in country_keywords.items():\n",
    "        if keyword in query_lower:\n",
    "            pre_filter[\"pays\"] = country\n",
    "            break\n",
    "    \n",
    "    # 3. AUTO-DETECT LAW TITLE\n",
    "    law_keywords = {\n",
    "        \"code des personnes\": \"Loi N° 2002-07 portant Code des personnes et de la famille\",\n",
    "        \"code famille\": \"Loi N° 2002-07 portant Code des personnes et de la famille\", \n",
    "        \"droit familial\": \"Loi N° 2002-07 portant Code des personnes et de la famille\",\n",
    "        \"code civil\": \"Code Civil\",  # Example for other laws\n",
    "        # Add more...\n",
    "    }\n",
    "    \n",
    "    for keyword, law_title in law_keywords.items():\n",
    "        if keyword in query_lower:\n",
    "            pre_filter[\"titre\"] = law_title\n",
    "            break\n",
    "    \n",
    "    # 4. AUTO-DETECT CATEGORY\n",
    "    category_keywords = {\n",
    "        \"mariage\": \"Code des personnes et de la famille\",\n",
    "        \"divorce\": \"Code des personnes et de la famille\",\n",
    "        \"héritage\": \"Code des personnes et de la famille\", \n",
    "        \"succession\": \"Code des personnes et de la famille\",\n",
    "        \"adoption\": \"Code des personnes et de la famille\",\n",
    "        # Add more...\n",
    "    }\n",
    "    \n",
    "    for keyword, category in category_keywords.items():\n",
    "        if keyword in query_lower:\n",
    "            pre_filter[\"categorie\"] = category\n",
    "            break\n",
    "    \n",
    "    # 5. ENHANCE QUERY BASED ON DETECTED ARTICLES\n",
    "    if detected_articles:\n",
    "        query = f\"article {' '.join(detected_articles)} {user_query}\"\n",
    "        print(f\"🔢 Auto-detected articles: {detected_articles}\")\n",
    "    else:\n",
    "        query = user_query\n",
    "    \n",
    "    # 6. PERFORM SEARCH\n",
    "    if pre_filter:\n",
    "        print(f\"🌍 Auto-detected filters: {pre_filter}\")\n",
    "        docs = vectorstore.similarity_search(query, k=10, pre_filter=pre_filter)\n",
    "    else:\n",
    "        docs = vectorstore.similarity_search(query, k=10)\n",
    "    \n",
    "    # 7. ENHANCE WITH REFERENCES\n",
    "    enhanced_docs = enhance_with_article_context(docs, collection)\n",
    "    \n",
    "    return enhanced_docs, detected_articles, pre_filter"
   ]
  },
  {
   "cell_type": "code",
   "execution_count": 55,
   "id": "60a359a8-530f-440f-9e72-4a345d130929",
   "metadata": {},
   "outputs": [
    {
     "name": "stdout",
     "output_type": "stream",
     "text": [
      "🌍 Auto-detected filters: {'pays': 'Bénin', 'categorie': 'Code des personnes et de la famille'}\n"
     ]
    }
   ],
   "source": [
    "response1 = smart_legal_query(\"Quelles sont les conditions de mariage au Bénin?\")"
   ]
  },
  {
   "cell_type": "code",
   "execution_count": 56,
   "id": "be718bcd-4915-4c8b-8d96-391335f67478",
   "metadata": {},
   "outputs": [
    {
     "name": "stdout",
     "output_type": "stream",
     "text": [
      "🔢 Auto-detected articles: ['125']\n",
      "🌍 Auto-detected filters: {'pays': 'Bénin', 'categorie': 'Code des personnes et de la famille'}\n"
     ]
    }
   ],
   "source": [
    "# Natural language queries - no parameters needed!\n",
    "results, articles, filters = smart_legal_query(\"Que dit l'article 125 sur le mariage au Bénin?\")"
   ]
  },
  {
   "cell_type": "code",
   "execution_count": 60,
   "id": "47970b63-4a4e-4a7b-90d9-50c77761b23d",
   "metadata": {},
   "outputs": [
    {
     "name": "stdout",
     "output_type": "stream",
     "text": [
      "🔢 Auto-detected articles: ['130', '145']\n",
      "🌍 Auto-detected filters: {'categorie': 'Code des personnes et de la famille'}\n"
     ]
    }
   ],
   "source": [
    "results, articles, filters = smart_legal_query(\"Expliquez les articles 130 et 145 concernant le divorce\")"
   ]
  },
  {
   "cell_type": "code",
   "execution_count": 61,
   "id": "149b05e8-4b03-4119-9c29-863cd2153ae0",
   "metadata": {},
   "outputs": [
    {
     "data": {
      "text/plain": [
       "[Document(id='68d3d5d9d2c28dba269c7092', metadata={'_id': '68d3d5d9d2c28dba269c7092', 'titre': 'Loi N° 2002-07 portant Code des personnes et de la famille', 'pays': 'Bénin', 'categorie': 'Code des personnes et de la famille', 'langue': 'Français', 'date_publication': '2004-08-24T00:00:00', 'url_source': 'https://sgg.gouv.bj/doc/loi-2002-07/', 'article_references': ['259', '260', '255', '258', '261'], 'articles_in_chunk': ['258', '259', '260', '261'], 'resolved_references': {'259': \"Article 258 : Le dispositif du jugement ou de l'arrêt qui prononce le divorce doit énoncer, le\\ncas échéant, la date de la décision ayant autorisé les époux à résider séparément. Cette date doit\\nfigurer dans la mention ou dans la transcription faite en application de l'article 255.\\n\\nArticle 259 : En cas de divorce par consentement mutuel, il est fait masse des dépens qui\\nsont mis pour moitié à la charge de chaque partie.\\n\\nArticle 260 : Il est fait de même masse et partage des dépens en cas de rejet de la\\ndemande motivé par l'intérêt des enfants.\\n\\nSECTION 3 : DES EFFETS DU DIVORCE\\nPARAGRAPHE 1 : Des effets du divorce à l'égard des époux\\n\\nArticle 261 : Le divorce dissout le mariage, met fin aux devoirs réciproques des époux et au\\nrégime matrimonial, conformément au titre relatif à la parenté et à l'alliance.\", '260': \"Article 258 : Le dispositif du jugement ou de l'arrêt qui prononce le divorce doit énoncer, le\\ncas échéant, la date de la décision ayant autorisé les époux à résider séparément. Cette date doit\\nfigurer dans la mention ou dans la transcription faite en application de l'article 255.\\n\\nArticle 259 : En cas de divorce par consentement mutuel, il est fait masse des dépens qui\\nsont mis pour moitié à la charge de chaque partie.\\n\\nArticle 260 : Il est fait de même masse et partage des dépens en cas de rejet de la\\ndemande motivé par l'intérêt des enfants.\\n\\nSECTION 3 : DES EFFETS DU DIVORCE\\nPARAGRAPHE 1 : Des effets du divorce à l'égard des époux\\n\\nArticle 261 : Le divorce dissout le mariage, met fin aux devoirs réciproques des époux et au\\nrégime matrimonial, conformément au titre relatif à la parenté et à l'alliance.\", '255': \"Article 255 : La mention ou la transcription est faite à la diligence du ministère public.\\n\\nA cet effet, la décision est notifiée, dans le délai de quinze (15) jours à compter de la date à\\nlaquelle elle est devenue définitive, à l'officier de l'état civil compétent, pour être mentionnée ou\\n- transcrite sur ses registres.\\n\\nEn cas de rejet d'un pourvoi formé contre un arrêt prononçant le divorce, le greffier de la\\ncour suprême doit, dans le mois du prononcé de l'arrêt de rejet, adresser un extrait de la décision au\\nprocureur général près la cour d'appel, lequel fait immédiatement procéder aux mesures de publicité\\nprescrite.\\n\\nLa mention ou la transcription est faite par les soins de l'officier de l'état civil dans un délai\\nde cinq (5) jours, non compris les jours fériés, à compter de la réception de la réquisition.\", '258': \"Article 258 : Le dispositif du jugement ou de l'arrêt qui prononce le divorce doit énoncer, le\\ncas échéant, la date de la décision ayant autorisé les époux à résider séparément. Cette date doit\\nfigurer dans la mention ou dans la transcription faite en application de l'article 255.\\n\\nArticle 259 : En cas de divorce par consentement mutuel, il est fait masse des dépens qui\\nsont mis pour moitié à la charge de chaque partie.\\n\\nArticle 260 : Il est fait de même masse et partage des dépens en cas de rejet de la\\ndemande motivé par l'intérêt des enfants.\\n\\nSECTION 3 : DES EFFETS DU DIVORCE\\nPARAGRAPHE 1 : Des effets du divorce à l'égard des époux\\n\\nArticle 261 : Le divorce dissout le mariage, met fin aux devoirs réciproques des époux et au\\nrégime matrimonial, conformément au titre relatif à la parenté et à l'alliance.\", '261': \"Article 258 : Le dispositif du jugement ou de l'arrêt qui prononce le divorce doit énoncer, le\\ncas échéant, la date de la décision ayant autorisé les époux à résider séparément. Cette date doit\\nfigurer dans la mention ou dans la transcription faite en application de l'article 255.\\n\\nArticle 259 : En cas de divorce par consentement mutuel, il est fait masse des dépens qui\\nsont mis pour moitié à la charge de chaque partie.\\n\\nArticle 260 : Il est fait de même masse et partage des dépens en cas de rejet de la\\ndemande motivé par l'intérêt des enfants.\\n\\nSECTION 3 : DES EFFETS DU DIVORCE\\nPARAGRAPHE 1 : Des effets du divorce à l'égard des époux\\n\\nArticle 261 : Le divorce dissout le mariage, met fin aux devoirs réciproques des époux et au\\nrégime matrimonial, conformément au titre relatif à la parenté et à l'alliance.\"}, 'page': 37}, page_content=\"Article 258 : Le dispositif du jugement ou de l'arrêt qui prononce le divorce doit énoncer, le\\ncas échéant, la date de la décision ayant autorisé les époux à résider séparément. Cette date doit\\nfigurer dans la mention ou dans la transcription faite en application de l'article 255.\\n\\nArticle 259 : En cas de divorce par consentement mutuel, il est fait masse des dépens qui\\nsont mis pour moitié à la charge de chaque partie.\\n\\nArticle 260 : Il est fait de même masse et partage des dépens en cas de rejet de la\\ndemande motivé par l'intérêt des enfants.\\n\\nSECTION 3 : DES EFFETS DU DIVORCE\\nPARAGRAPHE 1 : Des effets du divorce à l'égard des époux\\n\\nArticle 261 : Le divorce dissout le mariage, met fin aux devoirs réciproques des époux et au\\nrégime matrimonial, conformément au titre relatif à la parenté et à l'alliance.\"),\n",
       " Document(metadata={'_id': '68d3d5d9d2c28dba269c7092', 'titre': 'Loi N° 2002-07 portant Code des personnes et de la famille', 'pays': 'Bénin', 'categorie': 'Code des personnes et de la famille', 'langue': 'Français', 'date_publication': '2004-08-24T00:00:00', 'url_source': 'https://sgg.gouv.bj/doc/loi-2002-07/', 'article_references': ['259', '260', '255', '258', '261'], 'articles_in_chunk': ['258', '259', '260', '261'], 'resolved_references': {'259': \"Article 258 : Le dispositif du jugement ou de l'arrêt qui prononce le divorce doit énoncer, le\\ncas échéant, la date de la décision ayant autorisé les époux à résider séparément. Cette date doit\\nfigurer dans la mention ou dans la transcription faite en application de l'article 255.\\n\\nArticle 259 : En cas de divorce par consentement mutuel, il est fait masse des dépens qui\\nsont mis pour moitié à la charge de chaque partie.\\n\\nArticle 260 : Il est fait de même masse et partage des dépens en cas de rejet de la\\ndemande motivé par l'intérêt des enfants.\\n\\nSECTION 3 : DES EFFETS DU DIVORCE\\nPARAGRAPHE 1 : Des effets du divorce à l'égard des époux\\n\\nArticle 261 : Le divorce dissout le mariage, met fin aux devoirs réciproques des époux et au\\nrégime matrimonial, conformément au titre relatif à la parenté et à l'alliance.\", '260': \"Article 258 : Le dispositif du jugement ou de l'arrêt qui prononce le divorce doit énoncer, le\\ncas échéant, la date de la décision ayant autorisé les époux à résider séparément. Cette date doit\\nfigurer dans la mention ou dans la transcription faite en application de l'article 255.\\n\\nArticle 259 : En cas de divorce par consentement mutuel, il est fait masse des dépens qui\\nsont mis pour moitié à la charge de chaque partie.\\n\\nArticle 260 : Il est fait de même masse et partage des dépens en cas de rejet de la\\ndemande motivé par l'intérêt des enfants.\\n\\nSECTION 3 : DES EFFETS DU DIVORCE\\nPARAGRAPHE 1 : Des effets du divorce à l'égard des époux\\n\\nArticle 261 : Le divorce dissout le mariage, met fin aux devoirs réciproques des époux et au\\nrégime matrimonial, conformément au titre relatif à la parenté et à l'alliance.\", '255': \"Article 255 : La mention ou la transcription est faite à la diligence du ministère public.\\n\\nA cet effet, la décision est notifiée, dans le délai de quinze (15) jours à compter de la date à\\nlaquelle elle est devenue définitive, à l'officier de l'état civil compétent, pour être mentionnée ou\\n- transcrite sur ses registres.\\n\\nEn cas de rejet d'un pourvoi formé contre un arrêt prononçant le divorce, le greffier de la\\ncour suprême doit, dans le mois du prononcé de l'arrêt de rejet, adresser un extrait de la décision au\\nprocureur général près la cour d'appel, lequel fait immédiatement procéder aux mesures de publicité\\nprescrite.\\n\\nLa mention ou la transcription est faite par les soins de l'officier de l'état civil dans un délai\\nde cinq (5) jours, non compris les jours fériés, à compter de la réception de la réquisition.\", '258': \"Article 258 : Le dispositif du jugement ou de l'arrêt qui prononce le divorce doit énoncer, le\\ncas échéant, la date de la décision ayant autorisé les époux à résider séparément. Cette date doit\\nfigurer dans la mention ou dans la transcription faite en application de l'article 255.\\n\\nArticle 259 : En cas de divorce par consentement mutuel, il est fait masse des dépens qui\\nsont mis pour moitié à la charge de chaque partie.\\n\\nArticle 260 : Il est fait de même masse et partage des dépens en cas de rejet de la\\ndemande motivé par l'intérêt des enfants.\\n\\nSECTION 3 : DES EFFETS DU DIVORCE\\nPARAGRAPHE 1 : Des effets du divorce à l'égard des époux\\n\\nArticle 261 : Le divorce dissout le mariage, met fin aux devoirs réciproques des époux et au\\nrégime matrimonial, conformément au titre relatif à la parenté et à l'alliance.\", '261': \"Article 258 : Le dispositif du jugement ou de l'arrêt qui prononce le divorce doit énoncer, le\\ncas échéant, la date de la décision ayant autorisé les époux à résider séparément. Cette date doit\\nfigurer dans la mention ou dans la transcription faite en application de l'article 255.\\n\\nArticle 259 : En cas de divorce par consentement mutuel, il est fait masse des dépens qui\\nsont mis pour moitié à la charge de chaque partie.\\n\\nArticle 260 : Il est fait de même masse et partage des dépens en cas de rejet de la\\ndemande motivé par l'intérêt des enfants.\\n\\nSECTION 3 : DES EFFETS DU DIVORCE\\nPARAGRAPHE 1 : Des effets du divorce à l'égard des époux\\n\\nArticle 261 : Le divorce dissout le mariage, met fin aux devoirs réciproques des époux et au\\nrégime matrimonial, conformément au titre relatif à la parenté et à l'alliance.\"}, 'page': 37, 'is_reference': True, 'referenced_article': '259', 'original_article': ['258', '259', '260', '261']}, page_content=\"Article 259 (Référencé): Article 258 : Le dispositif du jugement ou de l'arrêt qui prononce le divorce doit énoncer, le\\ncas échéant, la date de la décision ayant autorisé les époux à résider séparément. Cette date doit\\nfigurer dans la mention ou dans la transcription faite en application de l'article 255.\\n\\nArticle 259 : En cas de divorce par consentement mutuel, il est fait masse des dépens qui\\nsont mis pour moitié à la charge de chaque partie.\\n\\nArticle 260 : Il est fait de même masse et partage des dépens en cas de rej...\"),\n",
       " Document(metadata={'_id': '68d3d5d9d2c28dba269c7092', 'titre': 'Loi N° 2002-07 portant Code des personnes et de la famille', 'pays': 'Bénin', 'categorie': 'Code des personnes et de la famille', 'langue': 'Français', 'date_publication': '2004-08-24T00:00:00', 'url_source': 'https://sgg.gouv.bj/doc/loi-2002-07/', 'article_references': ['259', '260', '255', '258', '261'], 'articles_in_chunk': ['258', '259', '260', '261'], 'resolved_references': {'259': \"Article 258 : Le dispositif du jugement ou de l'arrêt qui prononce le divorce doit énoncer, le\\ncas échéant, la date de la décision ayant autorisé les époux à résider séparément. Cette date doit\\nfigurer dans la mention ou dans la transcription faite en application de l'article 255.\\n\\nArticle 259 : En cas de divorce par consentement mutuel, il est fait masse des dépens qui\\nsont mis pour moitié à la charge de chaque partie.\\n\\nArticle 260 : Il est fait de même masse et partage des dépens en cas de rejet de la\\ndemande motivé par l'intérêt des enfants.\\n\\nSECTION 3 : DES EFFETS DU DIVORCE\\nPARAGRAPHE 1 : Des effets du divorce à l'égard des époux\\n\\nArticle 261 : Le divorce dissout le mariage, met fin aux devoirs réciproques des époux et au\\nrégime matrimonial, conformément au titre relatif à la parenté et à l'alliance.\", '260': \"Article 258 : Le dispositif du jugement ou de l'arrêt qui prononce le divorce doit énoncer, le\\ncas échéant, la date de la décision ayant autorisé les époux à résider séparément. Cette date doit\\nfigurer dans la mention ou dans la transcription faite en application de l'article 255.\\n\\nArticle 259 : En cas de divorce par consentement mutuel, il est fait masse des dépens qui\\nsont mis pour moitié à la charge de chaque partie.\\n\\nArticle 260 : Il est fait de même masse et partage des dépens en cas de rejet de la\\ndemande motivé par l'intérêt des enfants.\\n\\nSECTION 3 : DES EFFETS DU DIVORCE\\nPARAGRAPHE 1 : Des effets du divorce à l'égard des époux\\n\\nArticle 261 : Le divorce dissout le mariage, met fin aux devoirs réciproques des époux et au\\nrégime matrimonial, conformément au titre relatif à la parenté et à l'alliance.\", '255': \"Article 255 : La mention ou la transcription est faite à la diligence du ministère public.\\n\\nA cet effet, la décision est notifiée, dans le délai de quinze (15) jours à compter de la date à\\nlaquelle elle est devenue définitive, à l'officier de l'état civil compétent, pour être mentionnée ou\\n- transcrite sur ses registres.\\n\\nEn cas de rejet d'un pourvoi formé contre un arrêt prononçant le divorce, le greffier de la\\ncour suprême doit, dans le mois du prononcé de l'arrêt de rejet, adresser un extrait de la décision au\\nprocureur général près la cour d'appel, lequel fait immédiatement procéder aux mesures de publicité\\nprescrite.\\n\\nLa mention ou la transcription est faite par les soins de l'officier de l'état civil dans un délai\\nde cinq (5) jours, non compris les jours fériés, à compter de la réception de la réquisition.\", '258': \"Article 258 : Le dispositif du jugement ou de l'arrêt qui prononce le divorce doit énoncer, le\\ncas échéant, la date de la décision ayant autorisé les époux à résider séparément. Cette date doit\\nfigurer dans la mention ou dans la transcription faite en application de l'article 255.\\n\\nArticle 259 : En cas de divorce par consentement mutuel, il est fait masse des dépens qui\\nsont mis pour moitié à la charge de chaque partie.\\n\\nArticle 260 : Il est fait de même masse et partage des dépens en cas de rejet de la\\ndemande motivé par l'intérêt des enfants.\\n\\nSECTION 3 : DES EFFETS DU DIVORCE\\nPARAGRAPHE 1 : Des effets du divorce à l'égard des époux\\n\\nArticle 261 : Le divorce dissout le mariage, met fin aux devoirs réciproques des époux et au\\nrégime matrimonial, conformément au titre relatif à la parenté et à l'alliance.\", '261': \"Article 258 : Le dispositif du jugement ou de l'arrêt qui prononce le divorce doit énoncer, le\\ncas échéant, la date de la décision ayant autorisé les époux à résider séparément. Cette date doit\\nfigurer dans la mention ou dans la transcription faite en application de l'article 255.\\n\\nArticle 259 : En cas de divorce par consentement mutuel, il est fait masse des dépens qui\\nsont mis pour moitié à la charge de chaque partie.\\n\\nArticle 260 : Il est fait de même masse et partage des dépens en cas de rejet de la\\ndemande motivé par l'intérêt des enfants.\\n\\nSECTION 3 : DES EFFETS DU DIVORCE\\nPARAGRAPHE 1 : Des effets du divorce à l'égard des époux\\n\\nArticle 261 : Le divorce dissout le mariage, met fin aux devoirs réciproques des époux et au\\nrégime matrimonial, conformément au titre relatif à la parenté et à l'alliance.\"}, 'page': 37, 'is_reference': True, 'referenced_article': '260', 'original_article': ['258', '259', '260', '261']}, page_content=\"Article 260 (Référencé): Article 258 : Le dispositif du jugement ou de l'arrêt qui prononce le divorce doit énoncer, le\\ncas échéant, la date de la décision ayant autorisé les époux à résider séparément. Cette date doit\\nfigurer dans la mention ou dans la transcription faite en application de l'article 255.\\n\\nArticle 259 : En cas de divorce par consentement mutuel, il est fait masse des dépens qui\\nsont mis pour moitié à la charge de chaque partie.\\n\\nArticle 260 : Il est fait de même masse et partage des dépens en cas de rej...\"),\n",
       " Document(metadata={'_id': '68d3d5d9d2c28dba269c7092', 'titre': 'Loi N° 2002-07 portant Code des personnes et de la famille', 'pays': 'Bénin', 'categorie': 'Code des personnes et de la famille', 'langue': 'Français', 'date_publication': '2004-08-24T00:00:00', 'url_source': 'https://sgg.gouv.bj/doc/loi-2002-07/', 'article_references': ['259', '260', '255', '258', '261'], 'articles_in_chunk': ['258', '259', '260', '261'], 'resolved_references': {'259': \"Article 258 : Le dispositif du jugement ou de l'arrêt qui prononce le divorce doit énoncer, le\\ncas échéant, la date de la décision ayant autorisé les époux à résider séparément. Cette date doit\\nfigurer dans la mention ou dans la transcription faite en application de l'article 255.\\n\\nArticle 259 : En cas de divorce par consentement mutuel, il est fait masse des dépens qui\\nsont mis pour moitié à la charge de chaque partie.\\n\\nArticle 260 : Il est fait de même masse et partage des dépens en cas de rejet de la\\ndemande motivé par l'intérêt des enfants.\\n\\nSECTION 3 : DES EFFETS DU DIVORCE\\nPARAGRAPHE 1 : Des effets du divorce à l'égard des époux\\n\\nArticle 261 : Le divorce dissout le mariage, met fin aux devoirs réciproques des époux et au\\nrégime matrimonial, conformément au titre relatif à la parenté et à l'alliance.\", '260': \"Article 258 : Le dispositif du jugement ou de l'arrêt qui prononce le divorce doit énoncer, le\\ncas échéant, la date de la décision ayant autorisé les époux à résider séparément. Cette date doit\\nfigurer dans la mention ou dans la transcription faite en application de l'article 255.\\n\\nArticle 259 : En cas de divorce par consentement mutuel, il est fait masse des dépens qui\\nsont mis pour moitié à la charge de chaque partie.\\n\\nArticle 260 : Il est fait de même masse et partage des dépens en cas de rejet de la\\ndemande motivé par l'intérêt des enfants.\\n\\nSECTION 3 : DES EFFETS DU DIVORCE\\nPARAGRAPHE 1 : Des effets du divorce à l'égard des époux\\n\\nArticle 261 : Le divorce dissout le mariage, met fin aux devoirs réciproques des époux et au\\nrégime matrimonial, conformément au titre relatif à la parenté et à l'alliance.\", '255': \"Article 255 : La mention ou la transcription est faite à la diligence du ministère public.\\n\\nA cet effet, la décision est notifiée, dans le délai de quinze (15) jours à compter de la date à\\nlaquelle elle est devenue définitive, à l'officier de l'état civil compétent, pour être mentionnée ou\\n- transcrite sur ses registres.\\n\\nEn cas de rejet d'un pourvoi formé contre un arrêt prononçant le divorce, le greffier de la\\ncour suprême doit, dans le mois du prononcé de l'arrêt de rejet, adresser un extrait de la décision au\\nprocureur général près la cour d'appel, lequel fait immédiatement procéder aux mesures de publicité\\nprescrite.\\n\\nLa mention ou la transcription est faite par les soins de l'officier de l'état civil dans un délai\\nde cinq (5) jours, non compris les jours fériés, à compter de la réception de la réquisition.\", '258': \"Article 258 : Le dispositif du jugement ou de l'arrêt qui prononce le divorce doit énoncer, le\\ncas échéant, la date de la décision ayant autorisé les époux à résider séparément. Cette date doit\\nfigurer dans la mention ou dans la transcription faite en application de l'article 255.\\n\\nArticle 259 : En cas de divorce par consentement mutuel, il est fait masse des dépens qui\\nsont mis pour moitié à la charge de chaque partie.\\n\\nArticle 260 : Il est fait de même masse et partage des dépens en cas de rejet de la\\ndemande motivé par l'intérêt des enfants.\\n\\nSECTION 3 : DES EFFETS DU DIVORCE\\nPARAGRAPHE 1 : Des effets du divorce à l'égard des époux\\n\\nArticle 261 : Le divorce dissout le mariage, met fin aux devoirs réciproques des époux et au\\nrégime matrimonial, conformément au titre relatif à la parenté et à l'alliance.\", '261': \"Article 258 : Le dispositif du jugement ou de l'arrêt qui prononce le divorce doit énoncer, le\\ncas échéant, la date de la décision ayant autorisé les époux à résider séparément. Cette date doit\\nfigurer dans la mention ou dans la transcription faite en application de l'article 255.\\n\\nArticle 259 : En cas de divorce par consentement mutuel, il est fait masse des dépens qui\\nsont mis pour moitié à la charge de chaque partie.\\n\\nArticle 260 : Il est fait de même masse et partage des dépens en cas de rejet de la\\ndemande motivé par l'intérêt des enfants.\\n\\nSECTION 3 : DES EFFETS DU DIVORCE\\nPARAGRAPHE 1 : Des effets du divorce à l'égard des époux\\n\\nArticle 261 : Le divorce dissout le mariage, met fin aux devoirs réciproques des époux et au\\nrégime matrimonial, conformément au titre relatif à la parenté et à l'alliance.\"}, 'page': 37, 'is_reference': True, 'referenced_article': '255', 'original_article': ['258', '259', '260', '261']}, page_content=\"Article 255 (Référencé): Article 255 : La mention ou la transcription est faite à la diligence du ministère public.\\n\\nA cet effet, la décision est notifiée, dans le délai de quinze (15) jours à compter de la date à\\nlaquelle elle est devenue définitive, à l'officier de l'état civil compétent, pour être mentionnée ou\\n- transcrite sur ses registres.\\n\\nEn cas de rejet d'un pourvoi formé contre un arrêt prononçant le divorce, le greffier de la\\ncour suprême doit, dans le mois du prononcé de l'arrêt de rejet, adresser un extrait...\"),\n",
       " Document(id='68d3d5d9d2c28dba269c7084', metadata={'_id': '68d3d5d9d2c28dba269c7084', 'titre': 'Loi N° 2002-07 portant Code des personnes et de la famille', 'pays': 'Bénin', 'categorie': 'Code des personnes et de la famille', 'langue': 'Français', 'date_publication': '2004-08-24T00:00:00', 'url_source': 'https://sgg.gouv.bj/doc/loi-2002-07/', 'article_references': ['230', '50'], 'articles_in_chunk': ['230'], 'resolved_references': {'230': \"Article 230 : Le jugement constatant le divorce par consentement mutuel est rédigé dans la\\nforme des jugements ordinaires. || mentionne expressément que le consentement des époux a été\\nlibrement donné et que rien dans les accords relatifs à la situation des biens et au sort des enfants\\nn'apparaît comme étant contraire à l'ordre public et aux bonnes mœurs,\\n\\nAtticle 231 : Le juge porte indication du jugement de divorce sur le livret de famille en\\nfaisant référence à la date et au numéro du jugement et remet une copie du jugement à chacun des\\népoux.\\n\\nIl adresse, dans le délai maximum de trente (30) jours, une expédition du jugement à\\nl'officier de l'état civil du lieu où le mariage a été célébré, aux fins de mention en marge de l'acte de\\nmariage et de mention en marge de l'acte de naissance de chacun des époux, en donnant avis s'il y a\\nlieu à l'officier de l'état civil qui en est dépositaire conformément aux dispositions des articles 50 et 51 4\\n\\n2\\n\\n33\", '50': \"Article 49 : Dans tous les cas où la mention d'un acte relatif à l'état civil doit avoir lieu en\\nmarge d'un acte déjà inscrit, elle est faite d'office.\\n\\nArticle 50 : L'officier de l'état civil qui a dressé ou transcrit l'acte donnant lieu à mention\\neffectue celle-ci, dans les trois (3) jours suivant la réception de l'acte, sur les registres qu'il détient et, si\\nle double du registre où la mention doit être effectuée se trouve au greffe, adresse un avis au procureur\\nde la République du ressort.\\n\\nAticle 51 : Lorsque l'acte en marge duquel doit être effectuée cette mention, a été dressé\\nou transcrit dans un autre centre d'état civil, l'avis est adressé, dans le délai de trois (3) jours suivant sa\\nréception, à l'officier de l'état civil de ce centre qui en avise aussitôt, si le double du registre est au\\ngreffe, le procureur de la République.\"}, 'page': 33}, page_content=\"Article 230 : Le jugement constatant le divorce par consentement mutuel est rédigé dans la\\nforme des jugements ordinaires. || mentionne expressément que le consentement des époux a été\\nlibrement donné et que rien dans les accords relatifs à la situation des biens et au sort des enfants\\nn'apparaît comme étant contraire à l'ordre public et aux bonnes mœurs,\\n\\nAtticle 231 : Le juge porte indication du jugement de divorce sur le livret de famille en\\nfaisant référence à la date et au numéro du jugement et remet une copie du jugement à chacun des\\népoux.\\n\\nIl adresse, dans le délai maximum de trente (30) jours, une expédition du jugement à\\nl'officier de l'état civil du lieu où le mariage a été célébré, aux fins de mention en marge de l'acte de\\nmariage et de mention en marge de l'acte de naissance de chacun des époux, en donnant avis s'il y a\\nlieu à l'officier de l'état civil qui en est dépositaire conformément aux dispositions des articles 50 et 51 4\\n\\n2\\n\\n33\"),\n",
       " Document(metadata={'_id': '68d3d5d9d2c28dba269c7084', 'titre': 'Loi N° 2002-07 portant Code des personnes et de la famille', 'pays': 'Bénin', 'categorie': 'Code des personnes et de la famille', 'langue': 'Français', 'date_publication': '2004-08-24T00:00:00', 'url_source': 'https://sgg.gouv.bj/doc/loi-2002-07/', 'article_references': ['230', '50'], 'articles_in_chunk': ['230'], 'resolved_references': {'230': \"Article 230 : Le jugement constatant le divorce par consentement mutuel est rédigé dans la\\nforme des jugements ordinaires. || mentionne expressément que le consentement des époux a été\\nlibrement donné et que rien dans les accords relatifs à la situation des biens et au sort des enfants\\nn'apparaît comme étant contraire à l'ordre public et aux bonnes mœurs,\\n\\nAtticle 231 : Le juge porte indication du jugement de divorce sur le livret de famille en\\nfaisant référence à la date et au numéro du jugement et remet une copie du jugement à chacun des\\népoux.\\n\\nIl adresse, dans le délai maximum de trente (30) jours, une expédition du jugement à\\nl'officier de l'état civil du lieu où le mariage a été célébré, aux fins de mention en marge de l'acte de\\nmariage et de mention en marge de l'acte de naissance de chacun des époux, en donnant avis s'il y a\\nlieu à l'officier de l'état civil qui en est dépositaire conformément aux dispositions des articles 50 et 51 4\\n\\n2\\n\\n33\", '50': \"Article 49 : Dans tous les cas où la mention d'un acte relatif à l'état civil doit avoir lieu en\\nmarge d'un acte déjà inscrit, elle est faite d'office.\\n\\nArticle 50 : L'officier de l'état civil qui a dressé ou transcrit l'acte donnant lieu à mention\\neffectue celle-ci, dans les trois (3) jours suivant la réception de l'acte, sur les registres qu'il détient et, si\\nle double du registre où la mention doit être effectuée se trouve au greffe, adresse un avis au procureur\\nde la République du ressort.\\n\\nAticle 51 : Lorsque l'acte en marge duquel doit être effectuée cette mention, a été dressé\\nou transcrit dans un autre centre d'état civil, l'avis est adressé, dans le délai de trois (3) jours suivant sa\\nréception, à l'officier de l'état civil de ce centre qui en avise aussitôt, si le double du registre est au\\ngreffe, le procureur de la République.\"}, 'page': 33, 'is_reference': True, 'referenced_article': '230', 'original_article': ['230']}, page_content=\"Article 230 (Référencé): Article 230 : Le jugement constatant le divorce par consentement mutuel est rédigé dans la\\nforme des jugements ordinaires. || mentionne expressément que le consentement des époux a été\\nlibrement donné et que rien dans les accords relatifs à la situation des biens et au sort des enfants\\nn'apparaît comme étant contraire à l'ordre public et aux bonnes mœurs,\\n\\nAtticle 231 : Le juge porte indication du jugement de divorce sur le livret de famille en\\nfaisant référence à la date et au numéro du jugemen...\"),\n",
       " Document(metadata={'_id': '68d3d5d9d2c28dba269c7084', 'titre': 'Loi N° 2002-07 portant Code des personnes et de la famille', 'pays': 'Bénin', 'categorie': 'Code des personnes et de la famille', 'langue': 'Français', 'date_publication': '2004-08-24T00:00:00', 'url_source': 'https://sgg.gouv.bj/doc/loi-2002-07/', 'article_references': ['230', '50'], 'articles_in_chunk': ['230'], 'resolved_references': {'230': \"Article 230 : Le jugement constatant le divorce par consentement mutuel est rédigé dans la\\nforme des jugements ordinaires. || mentionne expressément que le consentement des époux a été\\nlibrement donné et que rien dans les accords relatifs à la situation des biens et au sort des enfants\\nn'apparaît comme étant contraire à l'ordre public et aux bonnes mœurs,\\n\\nAtticle 231 : Le juge porte indication du jugement de divorce sur le livret de famille en\\nfaisant référence à la date et au numéro du jugement et remet une copie du jugement à chacun des\\népoux.\\n\\nIl adresse, dans le délai maximum de trente (30) jours, une expédition du jugement à\\nl'officier de l'état civil du lieu où le mariage a été célébré, aux fins de mention en marge de l'acte de\\nmariage et de mention en marge de l'acte de naissance de chacun des époux, en donnant avis s'il y a\\nlieu à l'officier de l'état civil qui en est dépositaire conformément aux dispositions des articles 50 et 51 4\\n\\n2\\n\\n33\", '50': \"Article 49 : Dans tous les cas où la mention d'un acte relatif à l'état civil doit avoir lieu en\\nmarge d'un acte déjà inscrit, elle est faite d'office.\\n\\nArticle 50 : L'officier de l'état civil qui a dressé ou transcrit l'acte donnant lieu à mention\\neffectue celle-ci, dans les trois (3) jours suivant la réception de l'acte, sur les registres qu'il détient et, si\\nle double du registre où la mention doit être effectuée se trouve au greffe, adresse un avis au procureur\\nde la République du ressort.\\n\\nAticle 51 : Lorsque l'acte en marge duquel doit être effectuée cette mention, a été dressé\\nou transcrit dans un autre centre d'état civil, l'avis est adressé, dans le délai de trois (3) jours suivant sa\\nréception, à l'officier de l'état civil de ce centre qui en avise aussitôt, si le double du registre est au\\ngreffe, le procureur de la République.\"}, 'page': 33, 'is_reference': True, 'referenced_article': '50', 'original_article': ['230']}, page_content=\"Article 50 (Référencé): Article 49 : Dans tous les cas où la mention d'un acte relatif à l'état civil doit avoir lieu en\\nmarge d'un acte déjà inscrit, elle est faite d'office.\\n\\nArticle 50 : L'officier de l'état civil qui a dressé ou transcrit l'acte donnant lieu à mention\\neffectue celle-ci, dans les trois (3) jours suivant la réception de l'acte, sur les registres qu'il détient et, si\\nle double du registre où la mention doit être effectuée se trouve au greffe, adresse un avis au procureur\\nde la République du ressort.\\n\\n...\"),\n",
       " Document(id='68d3d5d9d2c28dba269c7087', metadata={'_id': '68d3d5d9d2c28dba269c7087', 'titre': 'Loi N° 2002-07 portant Code des personnes et de la famille', 'pays': 'Bénin', 'categorie': 'Code des personnes et de la famille', 'langue': 'Français', 'date_publication': '2004-08-24T00:00:00', 'url_source': 'https://sgg.gouv.bj/doc/loi-2002-07/', 'article_references': ['233', '234'], 'articles_in_chunk': ['233', '234'], 'resolved_references': {'233': \"Article 233 : Chacun des époux peut agir en divorce en fondant son action sur l'une des\\ncauses admises par la loi.\\n\\nArticle 234 : Le divorce peut être prononcé pour :\\n- absence déclarée de l'un des époux ;\\n- adultère de l’un des époux ;\\n- condamnation de l'un des époux à une peine afflictive et infamante ;\\n- défaut d'entretien ;\\n- refus de l'un des époux d'exécuter les engagements résultant de la convention matrimoniale;\\n- rupture ou interruption prolongée de la vie commune depuis quatre (4) ans au moins ;\\n- abandon de famille ;\\n\\n- mauvais traitements, excès, sévices ou injures graves rendant l'existence en commun\\nimpossible.\\n\\nLe divorce peut également être prononcé pour impuissance et/ou stérilité médicalement\\nétablie antérieure au mariage et non révélée au moment de la célébration.\\n\\nSECTON 2 : DE LA PROCEDURE DU DIVORCE\\n\\nAtticle 235 : L'époux qui veut former une demande en divorce, présente en personne sa\\nrequête écrite au président du tribunal de première instance;\\n\\n34\", '234': \"Article 233 : Chacun des époux peut agir en divorce en fondant son action sur l'une des\\ncauses admises par la loi.\\n\\nArticle 234 : Le divorce peut être prononcé pour :\\n- absence déclarée de l'un des époux ;\\n- adultère de l’un des époux ;\\n- condamnation de l'un des époux à une peine afflictive et infamante ;\\n- défaut d'entretien ;\\n- refus de l'un des époux d'exécuter les engagements résultant de la convention matrimoniale;\\n- rupture ou interruption prolongée de la vie commune depuis quatre (4) ans au moins ;\\n- abandon de famille ;\\n\\n- mauvais traitements, excès, sévices ou injures graves rendant l'existence en commun\\nimpossible.\\n\\nLe divorce peut également être prononcé pour impuissance et/ou stérilité médicalement\\nétablie antérieure au mariage et non révélée au moment de la célébration.\\n\\nSECTON 2 : DE LA PROCEDURE DU DIVORCE\\n\\nAtticle 235 : L'époux qui veut former une demande en divorce, présente en personne sa\\nrequête écrite au président du tribunal de première instance;\\n\\n34\"}, 'page': 34}, page_content=\"Article 233 : Chacun des époux peut agir en divorce en fondant son action sur l'une des\\ncauses admises par la loi.\\n\\nArticle 234 : Le divorce peut être prononcé pour :\\n- absence déclarée de l'un des époux ;\\n- adultère de l’un des époux ;\\n- condamnation de l'un des époux à une peine afflictive et infamante ;\\n- défaut d'entretien ;\\n- refus de l'un des époux d'exécuter les engagements résultant de la convention matrimoniale;\\n- rupture ou interruption prolongée de la vie commune depuis quatre (4) ans au moins ;\\n- abandon de famille ;\\n\\n- mauvais traitements, excès, sévices ou injures graves rendant l'existence en commun\\nimpossible.\\n\\nLe divorce peut également être prononcé pour impuissance et/ou stérilité médicalement\\nétablie antérieure au mariage et non révélée au moment de la célébration.\\n\\nSECTON 2 : DE LA PROCEDURE DU DIVORCE\\n\\nAtticle 235 : L'époux qui veut former une demande en divorce, présente en personne sa\\nrequête écrite au président du tribunal de première instance;\\n\\n34\"),\n",
       " Document(metadata={'_id': '68d3d5d9d2c28dba269c7087', 'titre': 'Loi N° 2002-07 portant Code des personnes et de la famille', 'pays': 'Bénin', 'categorie': 'Code des personnes et de la famille', 'langue': 'Français', 'date_publication': '2004-08-24T00:00:00', 'url_source': 'https://sgg.gouv.bj/doc/loi-2002-07/', 'article_references': ['233', '234'], 'articles_in_chunk': ['233', '234'], 'resolved_references': {'233': \"Article 233 : Chacun des époux peut agir en divorce en fondant son action sur l'une des\\ncauses admises par la loi.\\n\\nArticle 234 : Le divorce peut être prononcé pour :\\n- absence déclarée de l'un des époux ;\\n- adultère de l’un des époux ;\\n- condamnation de l'un des époux à une peine afflictive et infamante ;\\n- défaut d'entretien ;\\n- refus de l'un des époux d'exécuter les engagements résultant de la convention matrimoniale;\\n- rupture ou interruption prolongée de la vie commune depuis quatre (4) ans au moins ;\\n- abandon de famille ;\\n\\n- mauvais traitements, excès, sévices ou injures graves rendant l'existence en commun\\nimpossible.\\n\\nLe divorce peut également être prononcé pour impuissance et/ou stérilité médicalement\\nétablie antérieure au mariage et non révélée au moment de la célébration.\\n\\nSECTON 2 : DE LA PROCEDURE DU DIVORCE\\n\\nAtticle 235 : L'époux qui veut former une demande en divorce, présente en personne sa\\nrequête écrite au président du tribunal de première instance;\\n\\n34\", '234': \"Article 233 : Chacun des époux peut agir en divorce en fondant son action sur l'une des\\ncauses admises par la loi.\\n\\nArticle 234 : Le divorce peut être prononcé pour :\\n- absence déclarée de l'un des époux ;\\n- adultère de l’un des époux ;\\n- condamnation de l'un des époux à une peine afflictive et infamante ;\\n- défaut d'entretien ;\\n- refus de l'un des époux d'exécuter les engagements résultant de la convention matrimoniale;\\n- rupture ou interruption prolongée de la vie commune depuis quatre (4) ans au moins ;\\n- abandon de famille ;\\n\\n- mauvais traitements, excès, sévices ou injures graves rendant l'existence en commun\\nimpossible.\\n\\nLe divorce peut également être prononcé pour impuissance et/ou stérilité médicalement\\nétablie antérieure au mariage et non révélée au moment de la célébration.\\n\\nSECTON 2 : DE LA PROCEDURE DU DIVORCE\\n\\nAtticle 235 : L'époux qui veut former une demande en divorce, présente en personne sa\\nrequête écrite au président du tribunal de première instance;\\n\\n34\"}, 'page': 34, 'is_reference': True, 'referenced_article': '233', 'original_article': ['233', '234']}, page_content=\"Article 233 (Référencé): Article 233 : Chacun des époux peut agir en divorce en fondant son action sur l'une des\\ncauses admises par la loi.\\n\\nArticle 234 : Le divorce peut être prononcé pour :\\n- absence déclarée de l'un des époux ;\\n- adultère de l’un des époux ;\\n- condamnation de l'un des époux à une peine afflictive et infamante ;\\n- défaut d'entretien ;\\n- refus de l'un des époux d'exécuter les engagements résultant de la convention matrimoniale;\\n- rupture ou interruption prolongée de la vie commune depuis quatre (4) ans...\"),\n",
       " Document(metadata={'_id': '68d3d5d9d2c28dba269c7087', 'titre': 'Loi N° 2002-07 portant Code des personnes et de la famille', 'pays': 'Bénin', 'categorie': 'Code des personnes et de la famille', 'langue': 'Français', 'date_publication': '2004-08-24T00:00:00', 'url_source': 'https://sgg.gouv.bj/doc/loi-2002-07/', 'article_references': ['233', '234'], 'articles_in_chunk': ['233', '234'], 'resolved_references': {'233': \"Article 233 : Chacun des époux peut agir en divorce en fondant son action sur l'une des\\ncauses admises par la loi.\\n\\nArticle 234 : Le divorce peut être prononcé pour :\\n- absence déclarée de l'un des époux ;\\n- adultère de l’un des époux ;\\n- condamnation de l'un des époux à une peine afflictive et infamante ;\\n- défaut d'entretien ;\\n- refus de l'un des époux d'exécuter les engagements résultant de la convention matrimoniale;\\n- rupture ou interruption prolongée de la vie commune depuis quatre (4) ans au moins ;\\n- abandon de famille ;\\n\\n- mauvais traitements, excès, sévices ou injures graves rendant l'existence en commun\\nimpossible.\\n\\nLe divorce peut également être prononcé pour impuissance et/ou stérilité médicalement\\nétablie antérieure au mariage et non révélée au moment de la célébration.\\n\\nSECTON 2 : DE LA PROCEDURE DU DIVORCE\\n\\nAtticle 235 : L'époux qui veut former une demande en divorce, présente en personne sa\\nrequête écrite au président du tribunal de première instance;\\n\\n34\", '234': \"Article 233 : Chacun des époux peut agir en divorce en fondant son action sur l'une des\\ncauses admises par la loi.\\n\\nArticle 234 : Le divorce peut être prononcé pour :\\n- absence déclarée de l'un des époux ;\\n- adultère de l’un des époux ;\\n- condamnation de l'un des époux à une peine afflictive et infamante ;\\n- défaut d'entretien ;\\n- refus de l'un des époux d'exécuter les engagements résultant de la convention matrimoniale;\\n- rupture ou interruption prolongée de la vie commune depuis quatre (4) ans au moins ;\\n- abandon de famille ;\\n\\n- mauvais traitements, excès, sévices ou injures graves rendant l'existence en commun\\nimpossible.\\n\\nLe divorce peut également être prononcé pour impuissance et/ou stérilité médicalement\\nétablie antérieure au mariage et non révélée au moment de la célébration.\\n\\nSECTON 2 : DE LA PROCEDURE DU DIVORCE\\n\\nAtticle 235 : L'époux qui veut former une demande en divorce, présente en personne sa\\nrequête écrite au président du tribunal de première instance;\\n\\n34\"}, 'page': 34, 'is_reference': True, 'referenced_article': '234', 'original_article': ['233', '234']}, page_content=\"Article 234 (Référencé): Article 233 : Chacun des époux peut agir en divorce en fondant son action sur l'une des\\ncauses admises par la loi.\\n\\nArticle 234 : Le divorce peut être prononcé pour :\\n- absence déclarée de l'un des époux ;\\n- adultère de l’un des époux ;\\n- condamnation de l'un des époux à une peine afflictive et infamante ;\\n- défaut d'entretien ;\\n- refus de l'un des époux d'exécuter les engagements résultant de la convention matrimoniale;\\n- rupture ou interruption prolongée de la vie commune depuis quatre (4) ans...\"),\n",
       " Document(id='68d3d5d9d2c28dba269c7080', metadata={'_id': '68d3d5d9d2c28dba269c7080', 'titre': 'Loi N° 2002-07 portant Code des personnes et de la famille', 'pays': 'Bénin', 'categorie': 'Code des personnes et de la famille', 'langue': 'Français', 'date_publication': '2004-08-24T00:00:00', 'url_source': 'https://sgg.gouv.bj/doc/loi-2002-07/', 'article_references': ['225', '224', '226'], 'articles_in_chunk': ['225', '224', '226'], 'resolved_references': {'225': \"Le divorce par consentement mutuel ne peut être demandé au cours des deux premières\\nannées du mariage.\\n\\nArticle 224 : Dans le cas où la demande en divorce introduite par un époux est acceptée\\npar l'autre, il doit être fait état d'un ensemble de faits procédant de l'un ou de l’autre, qui rendent\\nintolérable le maintien de la vie commune.\\n\\nArticle 225 : La demande en divorce est présentée par les époux en personne, par écrit au\\ntribunal civil de droit commun.\\n\\nElle peut également être introduite soit par les conseils respectifs des époux, soit par un\\nconseil choisi d'un commun accord.\\n\\nArticle 226 : La demande doit être obligatoirement accompagnée :\\n- d'un extrait de l'acte de mariage ;\\n- des extraits d'acte de naissance des enfants mineurs: y\\n\\n32\", '224': \"Le divorce par consentement mutuel ne peut être demandé au cours des deux premières\\nannées du mariage.\\n\\nArticle 224 : Dans le cas où la demande en divorce introduite par un époux est acceptée\\npar l'autre, il doit être fait état d'un ensemble de faits procédant de l'un ou de l’autre, qui rendent\\nintolérable le maintien de la vie commune.\\n\\nArticle 225 : La demande en divorce est présentée par les époux en personne, par écrit au\\ntribunal civil de droit commun.\\n\\nElle peut également être introduite soit par les conseils respectifs des époux, soit par un\\nconseil choisi d'un commun accord.\\n\\nArticle 226 : La demande doit être obligatoirement accompagnée :\\n- d'un extrait de l'acte de mariage ;\\n- des extraits d'acte de naissance des enfants mineurs: y\\n\\n32\", '226': \"Le divorce par consentement mutuel ne peut être demandé au cours des deux premières\\nannées du mariage.\\n\\nArticle 224 : Dans le cas où la demande en divorce introduite par un époux est acceptée\\npar l'autre, il doit être fait état d'un ensemble de faits procédant de l'un ou de l’autre, qui rendent\\nintolérable le maintien de la vie commune.\\n\\nArticle 225 : La demande en divorce est présentée par les époux en personne, par écrit au\\ntribunal civil de droit commun.\\n\\nElle peut également être introduite soit par les conseils respectifs des époux, soit par un\\nconseil choisi d'un commun accord.\\n\\nArticle 226 : La demande doit être obligatoirement accompagnée :\\n- d'un extrait de l'acte de mariage ;\\n- des extraits d'acte de naissance des enfants mineurs: y\\n\\n32\"}, 'page': 32}, page_content=\"Le divorce par consentement mutuel ne peut être demandé au cours des deux premières\\nannées du mariage.\\n\\nArticle 224 : Dans le cas où la demande en divorce introduite par un époux est acceptée\\npar l'autre, il doit être fait état d'un ensemble de faits procédant de l'un ou de l’autre, qui rendent\\nintolérable le maintien de la vie commune.\\n\\nArticle 225 : La demande en divorce est présentée par les époux en personne, par écrit au\\ntribunal civil de droit commun.\\n\\nElle peut également être introduite soit par les conseils respectifs des époux, soit par un\\nconseil choisi d'un commun accord.\\n\\nArticle 226 : La demande doit être obligatoirement accompagnée :\\n- d'un extrait de l'acte de mariage ;\\n- des extraits d'acte de naissance des enfants mineurs: y\\n\\n32\"),\n",
       " Document(metadata={'_id': '68d3d5d9d2c28dba269c7080', 'titre': 'Loi N° 2002-07 portant Code des personnes et de la famille', 'pays': 'Bénin', 'categorie': 'Code des personnes et de la famille', 'langue': 'Français', 'date_publication': '2004-08-24T00:00:00', 'url_source': 'https://sgg.gouv.bj/doc/loi-2002-07/', 'article_references': ['225', '224', '226'], 'articles_in_chunk': ['225', '224', '226'], 'resolved_references': {'225': \"Le divorce par consentement mutuel ne peut être demandé au cours des deux premières\\nannées du mariage.\\n\\nArticle 224 : Dans le cas où la demande en divorce introduite par un époux est acceptée\\npar l'autre, il doit être fait état d'un ensemble de faits procédant de l'un ou de l’autre, qui rendent\\nintolérable le maintien de la vie commune.\\n\\nArticle 225 : La demande en divorce est présentée par les époux en personne, par écrit au\\ntribunal civil de droit commun.\\n\\nElle peut également être introduite soit par les conseils respectifs des époux, soit par un\\nconseil choisi d'un commun accord.\\n\\nArticle 226 : La demande doit être obligatoirement accompagnée :\\n- d'un extrait de l'acte de mariage ;\\n- des extraits d'acte de naissance des enfants mineurs: y\\n\\n32\", '224': \"Le divorce par consentement mutuel ne peut être demandé au cours des deux premières\\nannées du mariage.\\n\\nArticle 224 : Dans le cas où la demande en divorce introduite par un époux est acceptée\\npar l'autre, il doit être fait état d'un ensemble de faits procédant de l'un ou de l’autre, qui rendent\\nintolérable le maintien de la vie commune.\\n\\nArticle 225 : La demande en divorce est présentée par les époux en personne, par écrit au\\ntribunal civil de droit commun.\\n\\nElle peut également être introduite soit par les conseils respectifs des époux, soit par un\\nconseil choisi d'un commun accord.\\n\\nArticle 226 : La demande doit être obligatoirement accompagnée :\\n- d'un extrait de l'acte de mariage ;\\n- des extraits d'acte de naissance des enfants mineurs: y\\n\\n32\", '226': \"Le divorce par consentement mutuel ne peut être demandé au cours des deux premières\\nannées du mariage.\\n\\nArticle 224 : Dans le cas où la demande en divorce introduite par un époux est acceptée\\npar l'autre, il doit être fait état d'un ensemble de faits procédant de l'un ou de l’autre, qui rendent\\nintolérable le maintien de la vie commune.\\n\\nArticle 225 : La demande en divorce est présentée par les époux en personne, par écrit au\\ntribunal civil de droit commun.\\n\\nElle peut également être introduite soit par les conseils respectifs des époux, soit par un\\nconseil choisi d'un commun accord.\\n\\nArticle 226 : La demande doit être obligatoirement accompagnée :\\n- d'un extrait de l'acte de mariage ;\\n- des extraits d'acte de naissance des enfants mineurs: y\\n\\n32\"}, 'page': 32, 'is_reference': True, 'referenced_article': '225', 'original_article': ['225', '224', '226']}, page_content=\"Article 225 (Référencé): Le divorce par consentement mutuel ne peut être demandé au cours des deux premières\\nannées du mariage.\\n\\nArticle 224 : Dans le cas où la demande en divorce introduite par un époux est acceptée\\npar l'autre, il doit être fait état d'un ensemble de faits procédant de l'un ou de l’autre, qui rendent\\nintolérable le maintien de la vie commune.\\n\\nArticle 225 : La demande en divorce est présentée par les époux en personne, par écrit au\\ntribunal civil de droit commun.\\n\\nElle peut également être introduite s...\"),\n",
       " Document(metadata={'_id': '68d3d5d9d2c28dba269c7080', 'titre': 'Loi N° 2002-07 portant Code des personnes et de la famille', 'pays': 'Bénin', 'categorie': 'Code des personnes et de la famille', 'langue': 'Français', 'date_publication': '2004-08-24T00:00:00', 'url_source': 'https://sgg.gouv.bj/doc/loi-2002-07/', 'article_references': ['225', '224', '226'], 'articles_in_chunk': ['225', '224', '226'], 'resolved_references': {'225': \"Le divorce par consentement mutuel ne peut être demandé au cours des deux premières\\nannées du mariage.\\n\\nArticle 224 : Dans le cas où la demande en divorce introduite par un époux est acceptée\\npar l'autre, il doit être fait état d'un ensemble de faits procédant de l'un ou de l’autre, qui rendent\\nintolérable le maintien de la vie commune.\\n\\nArticle 225 : La demande en divorce est présentée par les époux en personne, par écrit au\\ntribunal civil de droit commun.\\n\\nElle peut également être introduite soit par les conseils respectifs des époux, soit par un\\nconseil choisi d'un commun accord.\\n\\nArticle 226 : La demande doit être obligatoirement accompagnée :\\n- d'un extrait de l'acte de mariage ;\\n- des extraits d'acte de naissance des enfants mineurs: y\\n\\n32\", '224': \"Le divorce par consentement mutuel ne peut être demandé au cours des deux premières\\nannées du mariage.\\n\\nArticle 224 : Dans le cas où la demande en divorce introduite par un époux est acceptée\\npar l'autre, il doit être fait état d'un ensemble de faits procédant de l'un ou de l’autre, qui rendent\\nintolérable le maintien de la vie commune.\\n\\nArticle 225 : La demande en divorce est présentée par les époux en personne, par écrit au\\ntribunal civil de droit commun.\\n\\nElle peut également être introduite soit par les conseils respectifs des époux, soit par un\\nconseil choisi d'un commun accord.\\n\\nArticle 226 : La demande doit être obligatoirement accompagnée :\\n- d'un extrait de l'acte de mariage ;\\n- des extraits d'acte de naissance des enfants mineurs: y\\n\\n32\", '226': \"Le divorce par consentement mutuel ne peut être demandé au cours des deux premières\\nannées du mariage.\\n\\nArticle 224 : Dans le cas où la demande en divorce introduite par un époux est acceptée\\npar l'autre, il doit être fait état d'un ensemble de faits procédant de l'un ou de l’autre, qui rendent\\nintolérable le maintien de la vie commune.\\n\\nArticle 225 : La demande en divorce est présentée par les époux en personne, par écrit au\\ntribunal civil de droit commun.\\n\\nElle peut également être introduite soit par les conseils respectifs des époux, soit par un\\nconseil choisi d'un commun accord.\\n\\nArticle 226 : La demande doit être obligatoirement accompagnée :\\n- d'un extrait de l'acte de mariage ;\\n- des extraits d'acte de naissance des enfants mineurs: y\\n\\n32\"}, 'page': 32, 'is_reference': True, 'referenced_article': '224', 'original_article': ['225', '224', '226']}, page_content=\"Article 224 (Référencé): Le divorce par consentement mutuel ne peut être demandé au cours des deux premières\\nannées du mariage.\\n\\nArticle 224 : Dans le cas où la demande en divorce introduite par un époux est acceptée\\npar l'autre, il doit être fait état d'un ensemble de faits procédant de l'un ou de l’autre, qui rendent\\nintolérable le maintien de la vie commune.\\n\\nArticle 225 : La demande en divorce est présentée par les époux en personne, par écrit au\\ntribunal civil de droit commun.\\n\\nElle peut également être introduite s...\"),\n",
       " Document(metadata={'_id': '68d3d5d9d2c28dba269c7080', 'titre': 'Loi N° 2002-07 portant Code des personnes et de la famille', 'pays': 'Bénin', 'categorie': 'Code des personnes et de la famille', 'langue': 'Français', 'date_publication': '2004-08-24T00:00:00', 'url_source': 'https://sgg.gouv.bj/doc/loi-2002-07/', 'article_references': ['225', '224', '226'], 'articles_in_chunk': ['225', '224', '226'], 'resolved_references': {'225': \"Le divorce par consentement mutuel ne peut être demandé au cours des deux premières\\nannées du mariage.\\n\\nArticle 224 : Dans le cas où la demande en divorce introduite par un époux est acceptée\\npar l'autre, il doit être fait état d'un ensemble de faits procédant de l'un ou de l’autre, qui rendent\\nintolérable le maintien de la vie commune.\\n\\nArticle 225 : La demande en divorce est présentée par les époux en personne, par écrit au\\ntribunal civil de droit commun.\\n\\nElle peut également être introduite soit par les conseils respectifs des époux, soit par un\\nconseil choisi d'un commun accord.\\n\\nArticle 226 : La demande doit être obligatoirement accompagnée :\\n- d'un extrait de l'acte de mariage ;\\n- des extraits d'acte de naissance des enfants mineurs: y\\n\\n32\", '224': \"Le divorce par consentement mutuel ne peut être demandé au cours des deux premières\\nannées du mariage.\\n\\nArticle 224 : Dans le cas où la demande en divorce introduite par un époux est acceptée\\npar l'autre, il doit être fait état d'un ensemble de faits procédant de l'un ou de l’autre, qui rendent\\nintolérable le maintien de la vie commune.\\n\\nArticle 225 : La demande en divorce est présentée par les époux en personne, par écrit au\\ntribunal civil de droit commun.\\n\\nElle peut également être introduite soit par les conseils respectifs des époux, soit par un\\nconseil choisi d'un commun accord.\\n\\nArticle 226 : La demande doit être obligatoirement accompagnée :\\n- d'un extrait de l'acte de mariage ;\\n- des extraits d'acte de naissance des enfants mineurs: y\\n\\n32\", '226': \"Le divorce par consentement mutuel ne peut être demandé au cours des deux premières\\nannées du mariage.\\n\\nArticle 224 : Dans le cas où la demande en divorce introduite par un époux est acceptée\\npar l'autre, il doit être fait état d'un ensemble de faits procédant de l'un ou de l’autre, qui rendent\\nintolérable le maintien de la vie commune.\\n\\nArticle 225 : La demande en divorce est présentée par les époux en personne, par écrit au\\ntribunal civil de droit commun.\\n\\nElle peut également être introduite soit par les conseils respectifs des époux, soit par un\\nconseil choisi d'un commun accord.\\n\\nArticle 226 : La demande doit être obligatoirement accompagnée :\\n- d'un extrait de l'acte de mariage ;\\n- des extraits d'acte de naissance des enfants mineurs: y\\n\\n32\"}, 'page': 32, 'is_reference': True, 'referenced_article': '226', 'original_article': ['225', '224', '226']}, page_content=\"Article 226 (Référencé): Le divorce par consentement mutuel ne peut être demandé au cours des deux premières\\nannées du mariage.\\n\\nArticle 224 : Dans le cas où la demande en divorce introduite par un époux est acceptée\\npar l'autre, il doit être fait état d'un ensemble de faits procédant de l'un ou de l’autre, qui rendent\\nintolérable le maintien de la vie commune.\\n\\nArticle 225 : La demande en divorce est présentée par les époux en personne, par écrit au\\ntribunal civil de droit commun.\\n\\nElle peut également être introduite s...\"),\n",
       " Document(id='68d3d5d5d2c28dba269c704d', metadata={'_id': '68d3d5d5d2c28dba269c704d', 'titre': 'Loi N° 2002-07 portant Code des personnes et de la famille', 'pays': 'Bénin', 'categorie': 'Code des personnes et de la famille', 'langue': 'Français', 'date_publication': '2004-08-24T00:00:00', 'url_source': 'https://sgg.gouv.bj/doc/loi-2002-07/', 'article_references': ['129', '128'], 'articles_in_chunk': ['129', '128'], 'resolved_references': {'129': \"Article 128 : À l'occasion de la remise des pièces ci-dessus indiquées, l'officier de l'état\\ncivil, même en l'absence de toute mention marginale, doit demander aux futurs époux s’ils ont déjà été\\nmariés et leur faire préciser, dans l'affirmative, la date et les causes de la dissolution du mariage.\\n\\nArticle 129 : Lorsque l'un des futurs époux ou les deux sont mineurs, l'officier de l'état civil\\nleur rappelle qu'il ne pourra être procédé à la célébration du mariage que s’il est rapporté préalablement\\nla preuve du consentement de la personne habilitée à le donner ou de l'autorisation judiciaire en tenant\\nlieu.\\n\\nAtticle 130 : En vue de la préparation de l'acte de mariage, l'officier de l'état civil informe\\nles futurs époux que, sauf convention matrimoniale contraire, ils sont soumis au régime de la séparation\\ndes biens.\\n\\nLes questions à poser par l'officier de l'état civil et les réponses des futurs époux sont\\nconsignées sur un formulaire -type d'un modèle fixé par décret.\", '128': \"Article 128 : À l'occasion de la remise des pièces ci-dessus indiquées, l'officier de l'état\\ncivil, même en l'absence de toute mention marginale, doit demander aux futurs époux s’ils ont déjà été\\nmariés et leur faire préciser, dans l'affirmative, la date et les causes de la dissolution du mariage.\\n\\nArticle 129 : Lorsque l'un des futurs époux ou les deux sont mineurs, l'officier de l'état civil\\nleur rappelle qu'il ne pourra être procédé à la célébration du mariage que s’il est rapporté préalablement\\nla preuve du consentement de la personne habilitée à le donner ou de l'autorisation judiciaire en tenant\\nlieu.\\n\\nAtticle 130 : En vue de la préparation de l'acte de mariage, l'officier de l'état civil informe\\nles futurs époux que, sauf convention matrimoniale contraire, ils sont soumis au régime de la séparation\\ndes biens.\\n\\nLes questions à poser par l'officier de l'état civil et les réponses des futurs époux sont\\nconsignées sur un formulaire -type d'un modèle fixé par décret.\"}, 'page': 20}, page_content=\"Article 128 : À l'occasion de la remise des pièces ci-dessus indiquées, l'officier de l'état\\ncivil, même en l'absence de toute mention marginale, doit demander aux futurs époux s’ils ont déjà été\\nmariés et leur faire préciser, dans l'affirmative, la date et les causes de la dissolution du mariage.\\n\\nArticle 129 : Lorsque l'un des futurs époux ou les deux sont mineurs, l'officier de l'état civil\\nleur rappelle qu'il ne pourra être procédé à la célébration du mariage que s’il est rapporté préalablement\\nla preuve du consentement de la personne habilitée à le donner ou de l'autorisation judiciaire en tenant\\nlieu.\\n\\nAtticle 130 : En vue de la préparation de l'acte de mariage, l'officier de l'état civil informe\\nles futurs époux que, sauf convention matrimoniale contraire, ils sont soumis au régime de la séparation\\ndes biens.\\n\\nLes questions à poser par l'officier de l'état civil et les réponses des futurs époux sont\\nconsignées sur un formulaire -type d'un modèle fixé par décret.\"),\n",
       " Document(metadata={'_id': '68d3d5d5d2c28dba269c704d', 'titre': 'Loi N° 2002-07 portant Code des personnes et de la famille', 'pays': 'Bénin', 'categorie': 'Code des personnes et de la famille', 'langue': 'Français', 'date_publication': '2004-08-24T00:00:00', 'url_source': 'https://sgg.gouv.bj/doc/loi-2002-07/', 'article_references': ['129', '128'], 'articles_in_chunk': ['129', '128'], 'resolved_references': {'129': \"Article 128 : À l'occasion de la remise des pièces ci-dessus indiquées, l'officier de l'état\\ncivil, même en l'absence de toute mention marginale, doit demander aux futurs époux s’ils ont déjà été\\nmariés et leur faire préciser, dans l'affirmative, la date et les causes de la dissolution du mariage.\\n\\nArticle 129 : Lorsque l'un des futurs époux ou les deux sont mineurs, l'officier de l'état civil\\nleur rappelle qu'il ne pourra être procédé à la célébration du mariage que s’il est rapporté préalablement\\nla preuve du consentement de la personne habilitée à le donner ou de l'autorisation judiciaire en tenant\\nlieu.\\n\\nAtticle 130 : En vue de la préparation de l'acte de mariage, l'officier de l'état civil informe\\nles futurs époux que, sauf convention matrimoniale contraire, ils sont soumis au régime de la séparation\\ndes biens.\\n\\nLes questions à poser par l'officier de l'état civil et les réponses des futurs époux sont\\nconsignées sur un formulaire -type d'un modèle fixé par décret.\", '128': \"Article 128 : À l'occasion de la remise des pièces ci-dessus indiquées, l'officier de l'état\\ncivil, même en l'absence de toute mention marginale, doit demander aux futurs époux s’ils ont déjà été\\nmariés et leur faire préciser, dans l'affirmative, la date et les causes de la dissolution du mariage.\\n\\nArticle 129 : Lorsque l'un des futurs époux ou les deux sont mineurs, l'officier de l'état civil\\nleur rappelle qu'il ne pourra être procédé à la célébration du mariage que s’il est rapporté préalablement\\nla preuve du consentement de la personne habilitée à le donner ou de l'autorisation judiciaire en tenant\\nlieu.\\n\\nAtticle 130 : En vue de la préparation de l'acte de mariage, l'officier de l'état civil informe\\nles futurs époux que, sauf convention matrimoniale contraire, ils sont soumis au régime de la séparation\\ndes biens.\\n\\nLes questions à poser par l'officier de l'état civil et les réponses des futurs époux sont\\nconsignées sur un formulaire -type d'un modèle fixé par décret.\"}, 'page': 20, 'is_reference': True, 'referenced_article': '129', 'original_article': ['129', '128']}, page_content=\"Article 129 (Référencé): Article 128 : À l'occasion de la remise des pièces ci-dessus indiquées, l'officier de l'état\\ncivil, même en l'absence de toute mention marginale, doit demander aux futurs époux s’ils ont déjà été\\nmariés et leur faire préciser, dans l'affirmative, la date et les causes de la dissolution du mariage.\\n\\nArticle 129 : Lorsque l'un des futurs époux ou les deux sont mineurs, l'officier de l'état civil\\nleur rappelle qu'il ne pourra être procédé à la célébration du mariage que s’il est rapporté préalablem...\"),\n",
       " Document(metadata={'_id': '68d3d5d5d2c28dba269c704d', 'titre': 'Loi N° 2002-07 portant Code des personnes et de la famille', 'pays': 'Bénin', 'categorie': 'Code des personnes et de la famille', 'langue': 'Français', 'date_publication': '2004-08-24T00:00:00', 'url_source': 'https://sgg.gouv.bj/doc/loi-2002-07/', 'article_references': ['129', '128'], 'articles_in_chunk': ['129', '128'], 'resolved_references': {'129': \"Article 128 : À l'occasion de la remise des pièces ci-dessus indiquées, l'officier de l'état\\ncivil, même en l'absence de toute mention marginale, doit demander aux futurs époux s’ils ont déjà été\\nmariés et leur faire préciser, dans l'affirmative, la date et les causes de la dissolution du mariage.\\n\\nArticle 129 : Lorsque l'un des futurs époux ou les deux sont mineurs, l'officier de l'état civil\\nleur rappelle qu'il ne pourra être procédé à la célébration du mariage que s’il est rapporté préalablement\\nla preuve du consentement de la personne habilitée à le donner ou de l'autorisation judiciaire en tenant\\nlieu.\\n\\nAtticle 130 : En vue de la préparation de l'acte de mariage, l'officier de l'état civil informe\\nles futurs époux que, sauf convention matrimoniale contraire, ils sont soumis au régime de la séparation\\ndes biens.\\n\\nLes questions à poser par l'officier de l'état civil et les réponses des futurs époux sont\\nconsignées sur un formulaire -type d'un modèle fixé par décret.\", '128': \"Article 128 : À l'occasion de la remise des pièces ci-dessus indiquées, l'officier de l'état\\ncivil, même en l'absence de toute mention marginale, doit demander aux futurs époux s’ils ont déjà été\\nmariés et leur faire préciser, dans l'affirmative, la date et les causes de la dissolution du mariage.\\n\\nArticle 129 : Lorsque l'un des futurs époux ou les deux sont mineurs, l'officier de l'état civil\\nleur rappelle qu'il ne pourra être procédé à la célébration du mariage que s’il est rapporté préalablement\\nla preuve du consentement de la personne habilitée à le donner ou de l'autorisation judiciaire en tenant\\nlieu.\\n\\nAtticle 130 : En vue de la préparation de l'acte de mariage, l'officier de l'état civil informe\\nles futurs époux que, sauf convention matrimoniale contraire, ils sont soumis au régime de la séparation\\ndes biens.\\n\\nLes questions à poser par l'officier de l'état civil et les réponses des futurs époux sont\\nconsignées sur un formulaire -type d'un modèle fixé par décret.\"}, 'page': 20, 'is_reference': True, 'referenced_article': '128', 'original_article': ['129', '128']}, page_content=\"Article 128 (Référencé): Article 128 : À l'occasion de la remise des pièces ci-dessus indiquées, l'officier de l'état\\ncivil, même en l'absence de toute mention marginale, doit demander aux futurs époux s’ils ont déjà été\\nmariés et leur faire préciser, dans l'affirmative, la date et les causes de la dissolution du mariage.\\n\\nArticle 129 : Lorsque l'un des futurs époux ou les deux sont mineurs, l'officier de l'état civil\\nleur rappelle qu'il ne pourra être procédé à la célébration du mariage que s’il est rapporté préalablem...\"),\n",
       " Document(id='68d3d5d9d2c28dba269c708c', metadata={'_id': '68d3d5d9d2c28dba269c708c', 'titre': 'Loi N° 2002-07 portant Code des personnes et de la famille', 'pays': 'Bénin', 'categorie': 'Code des personnes et de la famille', 'langue': 'Français', 'date_publication': '2004-08-24T00:00:00', 'url_source': 'https://sgg.gouv.bj/doc/loi-2002-07/', 'article_references': ['246', '239'], 'articles_in_chunk': ['246'], 'resolved_references': {'246': \"Article 246 : Les demandes reconventionnelles en divorce ou en séparation de corps se\\n\\nfont à l'audience par déclaration consignée par le greffier ou par dépôt de conclusions. Dans les\\n\\nmêmes formes, le demandeur peut, jusqu'à la clôture des débats, transformer sa demande de divorce\\nen demande de séparation de corps.\\n\\nAticle 247 : Le tribunal peut, soit sur la demande de l'une des parties, soit, sur celle de l'un\\ndes membres de la famille, soit sur les réquisitions du ministère public, soit même d'office, ordonner\\ntoutes les mesures provisoires qui lui paraissent nécessaires dans l'intérêt des enfants.\\n\\nIl statue aussi sur les demandes relatives aux aliments pour la durée de l'instance, sur les\\nprovisions et sur toutes les autres mesures urgentes.\\n\\nAticle 248 : L'un ou l'autre époux peut, dès l'ordonnance prévue à l'article 239 et sur\\nl'autorisation du juge donnée à charge d'en référer, prendre pour la garantie de ses droits toutes\\nmesures conservatoires utiles.\", '239': \"Article 238 : Lorsque l'un d'eux se trouve dans l'impossibilité de se rendre auprès du juge,\\nce magistrat détermine le lieu où sera tentée la conciliation ou donne commission rogatoire pour\\nentendre la partie empêchée.\\n\\nArticle 239 : En cas de non conciliation, le juge fixe par ordonnance la date de l'audience à\\nlaquelle l'affaire sera appelée devant le tribunal et invite les parties à s'y présenter. Si le défendeur est\\nabsent, il est attrait par voie d'assignation.\\n\\nPar la même ordonnance, le juge statue après avoir entendu les avocats des parties, si\\ncelles-ci le demandent, sur la résidence des époux durant l'instance, sur la remise des effets personnels\\net, sil y a lieu, sur la garde provisoire des enfants, sur le droit de visite des parents et sur la demande\\nd'aliments.\"}, 'page': 36}, page_content=\"Article 246 : Les demandes reconventionnelles en divorce ou en séparation de corps se\\n\\nfont à l'audience par déclaration consignée par le greffier ou par dépôt de conclusions. Dans les\\n\\nmêmes formes, le demandeur peut, jusqu'à la clôture des débats, transformer sa demande de divorce\\nen demande de séparation de corps.\\n\\nAticle 247 : Le tribunal peut, soit sur la demande de l'une des parties, soit, sur celle de l'un\\ndes membres de la famille, soit sur les réquisitions du ministère public, soit même d'office, ordonner\\ntoutes les mesures provisoires qui lui paraissent nécessaires dans l'intérêt des enfants.\\n\\nIl statue aussi sur les demandes relatives aux aliments pour la durée de l'instance, sur les\\nprovisions et sur toutes les autres mesures urgentes.\\n\\nAticle 248 : L'un ou l'autre époux peut, dès l'ordonnance prévue à l'article 239 et sur\\nl'autorisation du juge donnée à charge d'en référer, prendre pour la garantie de ses droits toutes\\nmesures conservatoires utiles.\"),\n",
       " Document(metadata={'_id': '68d3d5d9d2c28dba269c708c', 'titre': 'Loi N° 2002-07 portant Code des personnes et de la famille', 'pays': 'Bénin', 'categorie': 'Code des personnes et de la famille', 'langue': 'Français', 'date_publication': '2004-08-24T00:00:00', 'url_source': 'https://sgg.gouv.bj/doc/loi-2002-07/', 'article_references': ['246', '239'], 'articles_in_chunk': ['246'], 'resolved_references': {'246': \"Article 246 : Les demandes reconventionnelles en divorce ou en séparation de corps se\\n\\nfont à l'audience par déclaration consignée par le greffier ou par dépôt de conclusions. Dans les\\n\\nmêmes formes, le demandeur peut, jusqu'à la clôture des débats, transformer sa demande de divorce\\nen demande de séparation de corps.\\n\\nAticle 247 : Le tribunal peut, soit sur la demande de l'une des parties, soit, sur celle de l'un\\ndes membres de la famille, soit sur les réquisitions du ministère public, soit même d'office, ordonner\\ntoutes les mesures provisoires qui lui paraissent nécessaires dans l'intérêt des enfants.\\n\\nIl statue aussi sur les demandes relatives aux aliments pour la durée de l'instance, sur les\\nprovisions et sur toutes les autres mesures urgentes.\\n\\nAticle 248 : L'un ou l'autre époux peut, dès l'ordonnance prévue à l'article 239 et sur\\nl'autorisation du juge donnée à charge d'en référer, prendre pour la garantie de ses droits toutes\\nmesures conservatoires utiles.\", '239': \"Article 238 : Lorsque l'un d'eux se trouve dans l'impossibilité de se rendre auprès du juge,\\nce magistrat détermine le lieu où sera tentée la conciliation ou donne commission rogatoire pour\\nentendre la partie empêchée.\\n\\nArticle 239 : En cas de non conciliation, le juge fixe par ordonnance la date de l'audience à\\nlaquelle l'affaire sera appelée devant le tribunal et invite les parties à s'y présenter. Si le défendeur est\\nabsent, il est attrait par voie d'assignation.\\n\\nPar la même ordonnance, le juge statue après avoir entendu les avocats des parties, si\\ncelles-ci le demandent, sur la résidence des époux durant l'instance, sur la remise des effets personnels\\net, sil y a lieu, sur la garde provisoire des enfants, sur le droit de visite des parents et sur la demande\\nd'aliments.\"}, 'page': 36, 'is_reference': True, 'referenced_article': '246', 'original_article': ['246']}, page_content=\"Article 246 (Référencé): Article 246 : Les demandes reconventionnelles en divorce ou en séparation de corps se\\n\\nfont à l'audience par déclaration consignée par le greffier ou par dépôt de conclusions. Dans les\\n\\nmêmes formes, le demandeur peut, jusqu'à la clôture des débats, transformer sa demande de divorce\\nen demande de séparation de corps.\\n\\nAticle 247 : Le tribunal peut, soit sur la demande de l'une des parties, soit, sur celle de l'un\\ndes membres de la famille, soit sur les réquisitions du ministère public, soit même...\"),\n",
       " Document(metadata={'_id': '68d3d5d9d2c28dba269c708c', 'titre': 'Loi N° 2002-07 portant Code des personnes et de la famille', 'pays': 'Bénin', 'categorie': 'Code des personnes et de la famille', 'langue': 'Français', 'date_publication': '2004-08-24T00:00:00', 'url_source': 'https://sgg.gouv.bj/doc/loi-2002-07/', 'article_references': ['246', '239'], 'articles_in_chunk': ['246'], 'resolved_references': {'246': \"Article 246 : Les demandes reconventionnelles en divorce ou en séparation de corps se\\n\\nfont à l'audience par déclaration consignée par le greffier ou par dépôt de conclusions. Dans les\\n\\nmêmes formes, le demandeur peut, jusqu'à la clôture des débats, transformer sa demande de divorce\\nen demande de séparation de corps.\\n\\nAticle 247 : Le tribunal peut, soit sur la demande de l'une des parties, soit, sur celle de l'un\\ndes membres de la famille, soit sur les réquisitions du ministère public, soit même d'office, ordonner\\ntoutes les mesures provisoires qui lui paraissent nécessaires dans l'intérêt des enfants.\\n\\nIl statue aussi sur les demandes relatives aux aliments pour la durée de l'instance, sur les\\nprovisions et sur toutes les autres mesures urgentes.\\n\\nAticle 248 : L'un ou l'autre époux peut, dès l'ordonnance prévue à l'article 239 et sur\\nl'autorisation du juge donnée à charge d'en référer, prendre pour la garantie de ses droits toutes\\nmesures conservatoires utiles.\", '239': \"Article 238 : Lorsque l'un d'eux se trouve dans l'impossibilité de se rendre auprès du juge,\\nce magistrat détermine le lieu où sera tentée la conciliation ou donne commission rogatoire pour\\nentendre la partie empêchée.\\n\\nArticle 239 : En cas de non conciliation, le juge fixe par ordonnance la date de l'audience à\\nlaquelle l'affaire sera appelée devant le tribunal et invite les parties à s'y présenter. Si le défendeur est\\nabsent, il est attrait par voie d'assignation.\\n\\nPar la même ordonnance, le juge statue après avoir entendu les avocats des parties, si\\ncelles-ci le demandent, sur la résidence des époux durant l'instance, sur la remise des effets personnels\\net, sil y a lieu, sur la garde provisoire des enfants, sur le droit de visite des parents et sur la demande\\nd'aliments.\"}, 'page': 36, 'is_reference': True, 'referenced_article': '239', 'original_article': ['246']}, page_content=\"Article 239 (Référencé): Article 238 : Lorsque l'un d'eux se trouve dans l'impossibilité de se rendre auprès du juge,\\nce magistrat détermine le lieu où sera tentée la conciliation ou donne commission rogatoire pour\\nentendre la partie empêchée.\\n\\nArticle 239 : En cas de non conciliation, le juge fixe par ordonnance la date de l'audience à\\nlaquelle l'affaire sera appelée devant le tribunal et invite les parties à s'y présenter. Si le défendeur est\\nabsent, il est attrait par voie d'assignation.\\n\\nPar la même ordonnance, le j...\"),\n",
       " Document(id='68d3d5d9d2c28dba269c7094', metadata={'_id': '68d3d5d9d2c28dba269c7094', 'titre': 'Loi N° 2002-07 portant Code des personnes et de la famille', 'pays': 'Bénin', 'categorie': 'Code des personnes et de la famille', 'langue': 'Français', 'date_publication': '2004-08-24T00:00:00', 'url_source': 'https://sgg.gouv.bj/doc/loi-2002-07/', 'article_references': ['264', '263', '265'], 'articles_in_chunk': ['264', '263', '265'], 'resolved_references': {'264': \"Article 263 : En cas de divorce prononcé aux torts exclusifs de l'un des époux, le juge\\npeut allouer à l'époux qui a obtenu le divorce des dommages et intérêts pour le préjudice matériel et\\nmoral que lui cause la dissolution du mariage, compte tenu, notamment, de la perte de l'obligation\\nd'entretien.\\n\\nLe juge décide, selon les circonstances de la cause, si ces dommages et intérêts doivent\\nêtre versés en une seule fois ou par fractions.\\n\\nPARAGRAPHE 2 : Des effets du divorce à l'égard des enfants\\n\\nArticle 264 : Le divorce laisse subsister les droits et les devoirs des père et mère à l'égard\\nde leurs enfants, sous réserve des règles qui suivent.\\n\\nArticle 265 : La garde des enfants issus du mariage est confiée à l'un ou l'autre des époux,\\nen tenant compte uniquement de l'intérêt des enfants.\", '263': \"Article 263 : En cas de divorce prononcé aux torts exclusifs de l'un des époux, le juge\\npeut allouer à l'époux qui a obtenu le divorce des dommages et intérêts pour le préjudice matériel et\\nmoral que lui cause la dissolution du mariage, compte tenu, notamment, de la perte de l'obligation\\nd'entretien.\\n\\nLe juge décide, selon les circonstances de la cause, si ces dommages et intérêts doivent\\nêtre versés en une seule fois ou par fractions.\\n\\nPARAGRAPHE 2 : Des effets du divorce à l'égard des enfants\\n\\nArticle 264 : Le divorce laisse subsister les droits et les devoirs des père et mère à l'égard\\nde leurs enfants, sous réserve des règles qui suivent.\\n\\nArticle 265 : La garde des enfants issus du mariage est confiée à l'un ou l'autre des époux,\\nen tenant compte uniquement de l'intérêt des enfants.\", '265': \"Article 265 : La garde des enfants issus du mariage est confiée à l'un ou l'autre des époux,\\nen tenant compte uniquement de l'intérêt des enfants.\\n\\nA titre exceptionnel, et si l'intérêt des enfants l'exige, la garde peut être confiée, soit à une\\nautre personne choisie de préférence dans leur parenté, soit si cela s'avérait impossible, à toute autre\\npersonne physique ou morale.\\n\\nArticle 266 : Avant de statuer sur la garde provisoire ou définitive des enfants et sur le droit\\nde visite, le juge peut donner mission, à toute personne qualifiée, d'effectuer une enquête sociale.\\nCelle-ci a pour but de recueillir des renseignements sur a situation matérielle et morale de la famille,\\neur les conditions dans lesquelles vivent et sont élevés les enfants, et sur les mesures qu'il y a lieu de\\nprendre dans leur intérêt.\\n\\nL'enquête sociale ne peut être utilisée dans le débat sur la cause du divorce.\"}, 'page': 38}, page_content=\"Article 263 : En cas de divorce prononcé aux torts exclusifs de l'un des époux, le juge\\npeut allouer à l'époux qui a obtenu le divorce des dommages et intérêts pour le préjudice matériel et\\nmoral que lui cause la dissolution du mariage, compte tenu, notamment, de la perte de l'obligation\\nd'entretien.\\n\\nLe juge décide, selon les circonstances de la cause, si ces dommages et intérêts doivent\\nêtre versés en une seule fois ou par fractions.\\n\\nPARAGRAPHE 2 : Des effets du divorce à l'égard des enfants\\n\\nArticle 264 : Le divorce laisse subsister les droits et les devoirs des père et mère à l'égard\\nde leurs enfants, sous réserve des règles qui suivent.\\n\\nArticle 265 : La garde des enfants issus du mariage est confiée à l'un ou l'autre des époux,\\nen tenant compte uniquement de l'intérêt des enfants.\"),\n",
       " Document(metadata={'_id': '68d3d5d9d2c28dba269c7094', 'titre': 'Loi N° 2002-07 portant Code des personnes et de la famille', 'pays': 'Bénin', 'categorie': 'Code des personnes et de la famille', 'langue': 'Français', 'date_publication': '2004-08-24T00:00:00', 'url_source': 'https://sgg.gouv.bj/doc/loi-2002-07/', 'article_references': ['264', '263', '265'], 'articles_in_chunk': ['264', '263', '265'], 'resolved_references': {'264': \"Article 263 : En cas de divorce prononcé aux torts exclusifs de l'un des époux, le juge\\npeut allouer à l'époux qui a obtenu le divorce des dommages et intérêts pour le préjudice matériel et\\nmoral que lui cause la dissolution du mariage, compte tenu, notamment, de la perte de l'obligation\\nd'entretien.\\n\\nLe juge décide, selon les circonstances de la cause, si ces dommages et intérêts doivent\\nêtre versés en une seule fois ou par fractions.\\n\\nPARAGRAPHE 2 : Des effets du divorce à l'égard des enfants\\n\\nArticle 264 : Le divorce laisse subsister les droits et les devoirs des père et mère à l'égard\\nde leurs enfants, sous réserve des règles qui suivent.\\n\\nArticle 265 : La garde des enfants issus du mariage est confiée à l'un ou l'autre des époux,\\nen tenant compte uniquement de l'intérêt des enfants.\", '263': \"Article 263 : En cas de divorce prononcé aux torts exclusifs de l'un des époux, le juge\\npeut allouer à l'époux qui a obtenu le divorce des dommages et intérêts pour le préjudice matériel et\\nmoral que lui cause la dissolution du mariage, compte tenu, notamment, de la perte de l'obligation\\nd'entretien.\\n\\nLe juge décide, selon les circonstances de la cause, si ces dommages et intérêts doivent\\nêtre versés en une seule fois ou par fractions.\\n\\nPARAGRAPHE 2 : Des effets du divorce à l'égard des enfants\\n\\nArticle 264 : Le divorce laisse subsister les droits et les devoirs des père et mère à l'égard\\nde leurs enfants, sous réserve des règles qui suivent.\\n\\nArticle 265 : La garde des enfants issus du mariage est confiée à l'un ou l'autre des époux,\\nen tenant compte uniquement de l'intérêt des enfants.\", '265': \"Article 265 : La garde des enfants issus du mariage est confiée à l'un ou l'autre des époux,\\nen tenant compte uniquement de l'intérêt des enfants.\\n\\nA titre exceptionnel, et si l'intérêt des enfants l'exige, la garde peut être confiée, soit à une\\nautre personne choisie de préférence dans leur parenté, soit si cela s'avérait impossible, à toute autre\\npersonne physique ou morale.\\n\\nArticle 266 : Avant de statuer sur la garde provisoire ou définitive des enfants et sur le droit\\nde visite, le juge peut donner mission, à toute personne qualifiée, d'effectuer une enquête sociale.\\nCelle-ci a pour but de recueillir des renseignements sur a situation matérielle et morale de la famille,\\neur les conditions dans lesquelles vivent et sont élevés les enfants, et sur les mesures qu'il y a lieu de\\nprendre dans leur intérêt.\\n\\nL'enquête sociale ne peut être utilisée dans le débat sur la cause du divorce.\"}, 'page': 38, 'is_reference': True, 'referenced_article': '264', 'original_article': ['264', '263', '265']}, page_content=\"Article 264 (Référencé): Article 263 : En cas de divorce prononcé aux torts exclusifs de l'un des époux, le juge\\npeut allouer à l'époux qui a obtenu le divorce des dommages et intérêts pour le préjudice matériel et\\nmoral que lui cause la dissolution du mariage, compte tenu, notamment, de la perte de l'obligation\\nd'entretien.\\n\\nLe juge décide, selon les circonstances de la cause, si ces dommages et intérêts doivent\\nêtre versés en une seule fois ou par fractions.\\n\\nPARAGRAPHE 2 : Des effets du divorce à l'égard des enfants\\n...\"),\n",
       " Document(metadata={'_id': '68d3d5d9d2c28dba269c7094', 'titre': 'Loi N° 2002-07 portant Code des personnes et de la famille', 'pays': 'Bénin', 'categorie': 'Code des personnes et de la famille', 'langue': 'Français', 'date_publication': '2004-08-24T00:00:00', 'url_source': 'https://sgg.gouv.bj/doc/loi-2002-07/', 'article_references': ['264', '263', '265'], 'articles_in_chunk': ['264', '263', '265'], 'resolved_references': {'264': \"Article 263 : En cas de divorce prononcé aux torts exclusifs de l'un des époux, le juge\\npeut allouer à l'époux qui a obtenu le divorce des dommages et intérêts pour le préjudice matériel et\\nmoral que lui cause la dissolution du mariage, compte tenu, notamment, de la perte de l'obligation\\nd'entretien.\\n\\nLe juge décide, selon les circonstances de la cause, si ces dommages et intérêts doivent\\nêtre versés en une seule fois ou par fractions.\\n\\nPARAGRAPHE 2 : Des effets du divorce à l'égard des enfants\\n\\nArticle 264 : Le divorce laisse subsister les droits et les devoirs des père et mère à l'égard\\nde leurs enfants, sous réserve des règles qui suivent.\\n\\nArticle 265 : La garde des enfants issus du mariage est confiée à l'un ou l'autre des époux,\\nen tenant compte uniquement de l'intérêt des enfants.\", '263': \"Article 263 : En cas de divorce prononcé aux torts exclusifs de l'un des époux, le juge\\npeut allouer à l'époux qui a obtenu le divorce des dommages et intérêts pour le préjudice matériel et\\nmoral que lui cause la dissolution du mariage, compte tenu, notamment, de la perte de l'obligation\\nd'entretien.\\n\\nLe juge décide, selon les circonstances de la cause, si ces dommages et intérêts doivent\\nêtre versés en une seule fois ou par fractions.\\n\\nPARAGRAPHE 2 : Des effets du divorce à l'égard des enfants\\n\\nArticle 264 : Le divorce laisse subsister les droits et les devoirs des père et mère à l'égard\\nde leurs enfants, sous réserve des règles qui suivent.\\n\\nArticle 265 : La garde des enfants issus du mariage est confiée à l'un ou l'autre des époux,\\nen tenant compte uniquement de l'intérêt des enfants.\", '265': \"Article 265 : La garde des enfants issus du mariage est confiée à l'un ou l'autre des époux,\\nen tenant compte uniquement de l'intérêt des enfants.\\n\\nA titre exceptionnel, et si l'intérêt des enfants l'exige, la garde peut être confiée, soit à une\\nautre personne choisie de préférence dans leur parenté, soit si cela s'avérait impossible, à toute autre\\npersonne physique ou morale.\\n\\nArticle 266 : Avant de statuer sur la garde provisoire ou définitive des enfants et sur le droit\\nde visite, le juge peut donner mission, à toute personne qualifiée, d'effectuer une enquête sociale.\\nCelle-ci a pour but de recueillir des renseignements sur a situation matérielle et morale de la famille,\\neur les conditions dans lesquelles vivent et sont élevés les enfants, et sur les mesures qu'il y a lieu de\\nprendre dans leur intérêt.\\n\\nL'enquête sociale ne peut être utilisée dans le débat sur la cause du divorce.\"}, 'page': 38, 'is_reference': True, 'referenced_article': '263', 'original_article': ['264', '263', '265']}, page_content=\"Article 263 (Référencé): Article 263 : En cas de divorce prononcé aux torts exclusifs de l'un des époux, le juge\\npeut allouer à l'époux qui a obtenu le divorce des dommages et intérêts pour le préjudice matériel et\\nmoral que lui cause la dissolution du mariage, compte tenu, notamment, de la perte de l'obligation\\nd'entretien.\\n\\nLe juge décide, selon les circonstances de la cause, si ces dommages et intérêts doivent\\nêtre versés en une seule fois ou par fractions.\\n\\nPARAGRAPHE 2 : Des effets du divorce à l'égard des enfants\\n...\"),\n",
       " Document(metadata={'_id': '68d3d5d9d2c28dba269c7094', 'titre': 'Loi N° 2002-07 portant Code des personnes et de la famille', 'pays': 'Bénin', 'categorie': 'Code des personnes et de la famille', 'langue': 'Français', 'date_publication': '2004-08-24T00:00:00', 'url_source': 'https://sgg.gouv.bj/doc/loi-2002-07/', 'article_references': ['264', '263', '265'], 'articles_in_chunk': ['264', '263', '265'], 'resolved_references': {'264': \"Article 263 : En cas de divorce prononcé aux torts exclusifs de l'un des époux, le juge\\npeut allouer à l'époux qui a obtenu le divorce des dommages et intérêts pour le préjudice matériel et\\nmoral que lui cause la dissolution du mariage, compte tenu, notamment, de la perte de l'obligation\\nd'entretien.\\n\\nLe juge décide, selon les circonstances de la cause, si ces dommages et intérêts doivent\\nêtre versés en une seule fois ou par fractions.\\n\\nPARAGRAPHE 2 : Des effets du divorce à l'égard des enfants\\n\\nArticle 264 : Le divorce laisse subsister les droits et les devoirs des père et mère à l'égard\\nde leurs enfants, sous réserve des règles qui suivent.\\n\\nArticle 265 : La garde des enfants issus du mariage est confiée à l'un ou l'autre des époux,\\nen tenant compte uniquement de l'intérêt des enfants.\", '263': \"Article 263 : En cas de divorce prononcé aux torts exclusifs de l'un des époux, le juge\\npeut allouer à l'époux qui a obtenu le divorce des dommages et intérêts pour le préjudice matériel et\\nmoral que lui cause la dissolution du mariage, compte tenu, notamment, de la perte de l'obligation\\nd'entretien.\\n\\nLe juge décide, selon les circonstances de la cause, si ces dommages et intérêts doivent\\nêtre versés en une seule fois ou par fractions.\\n\\nPARAGRAPHE 2 : Des effets du divorce à l'égard des enfants\\n\\nArticle 264 : Le divorce laisse subsister les droits et les devoirs des père et mère à l'égard\\nde leurs enfants, sous réserve des règles qui suivent.\\n\\nArticle 265 : La garde des enfants issus du mariage est confiée à l'un ou l'autre des époux,\\nen tenant compte uniquement de l'intérêt des enfants.\", '265': \"Article 265 : La garde des enfants issus du mariage est confiée à l'un ou l'autre des époux,\\nen tenant compte uniquement de l'intérêt des enfants.\\n\\nA titre exceptionnel, et si l'intérêt des enfants l'exige, la garde peut être confiée, soit à une\\nautre personne choisie de préférence dans leur parenté, soit si cela s'avérait impossible, à toute autre\\npersonne physique ou morale.\\n\\nArticle 266 : Avant de statuer sur la garde provisoire ou définitive des enfants et sur le droit\\nde visite, le juge peut donner mission, à toute personne qualifiée, d'effectuer une enquête sociale.\\nCelle-ci a pour but de recueillir des renseignements sur a situation matérielle et morale de la famille,\\neur les conditions dans lesquelles vivent et sont élevés les enfants, et sur les mesures qu'il y a lieu de\\nprendre dans leur intérêt.\\n\\nL'enquête sociale ne peut être utilisée dans le débat sur la cause du divorce.\"}, 'page': 38, 'is_reference': True, 'referenced_article': '265', 'original_article': ['264', '263', '265']}, page_content=\"Article 265 (Référencé): Article 265 : La garde des enfants issus du mariage est confiée à l'un ou l'autre des époux,\\nen tenant compte uniquement de l'intérêt des enfants.\\n\\nA titre exceptionnel, et si l'intérêt des enfants l'exige, la garde peut être confiée, soit à une\\nautre personne choisie de préférence dans leur parenté, soit si cela s'avérait impossible, à toute autre\\npersonne physique ou morale.\\n\\nArticle 266 : Avant de statuer sur la garde provisoire ou définitive des enfants et sur le droit\\nde visite, le juge peu...\"),\n",
       " Document(id='68d3d5d5d2c28dba269c705e', metadata={'_id': '68d3d5d5d2c28dba269c705e', 'titre': 'Loi N° 2002-07 portant Code des personnes et de la famille', 'pays': 'Bénin', 'categorie': 'Code des personnes et de la famille', 'langue': 'Français', 'date_publication': '2004-08-24T00:00:00', 'url_source': 'https://sgg.gouv.bj/doc/loi-2002-07/', 'article_references': ['157', '154', '155', '156'], 'articles_in_chunk': ['157', '154', '155', '156'], 'resolved_references': {'157': \"Article 154 : Les époux se doivent mutuellement fidélité.\\n\\nArticle 155 : Les époux assurent ensemble la direction morale et matérielle de la famille. Ils\\npourvoient à l'éducation des enfants et préparent leur avenir.\\n\\nArticle 156 : Le choix du domicile du ménage incombe aux époux. En cas de désaccord, le\\ndomicile conjugal est fixé par le mari. Toutefois, la femme peut obtenir l'autorisation judiciaire de\\ndomicile séparé si elle rapporte la preuve que le domicile choisi par son mari présente un danger\\nd'ordre matériel ou moral pour elle ou pour ses enfants .\\n\\nArticle 157 : Chacun des époux a le droit d'exercer la profession de son choix.\\n\\nIl peut, seul, pour les besoins de sa profession, souscrire des obligations et aliéner, à\\nl'exclusion des biens communs, ses biens personnels en pleine propriété, même en cas d'exercice\\nd’une profession commerciale.\", '154': \"Article 154 : Les époux se doivent mutuellement fidélité.\\n\\nArticle 155 : Les époux assurent ensemble la direction morale et matérielle de la famille. Ils\\npourvoient à l'éducation des enfants et préparent leur avenir.\\n\\nArticle 156 : Le choix du domicile du ménage incombe aux époux. En cas de désaccord, le\\ndomicile conjugal est fixé par le mari. Toutefois, la femme peut obtenir l'autorisation judiciaire de\\ndomicile séparé si elle rapporte la preuve que le domicile choisi par son mari présente un danger\\nd'ordre matériel ou moral pour elle ou pour ses enfants .\\n\\nArticle 157 : Chacun des époux a le droit d'exercer la profession de son choix.\\n\\nIl peut, seul, pour les besoins de sa profession, souscrire des obligations et aliéner, à\\nl'exclusion des biens communs, ses biens personnels en pleine propriété, même en cas d'exercice\\nd’une profession commerciale.\", '155': \"Article 154 : Les époux se doivent mutuellement fidélité.\\n\\nArticle 155 : Les époux assurent ensemble la direction morale et matérielle de la famille. Ils\\npourvoient à l'éducation des enfants et préparent leur avenir.\\n\\nArticle 156 : Le choix du domicile du ménage incombe aux époux. En cas de désaccord, le\\ndomicile conjugal est fixé par le mari. Toutefois, la femme peut obtenir l'autorisation judiciaire de\\ndomicile séparé si elle rapporte la preuve que le domicile choisi par son mari présente un danger\\nd'ordre matériel ou moral pour elle ou pour ses enfants .\\n\\nArticle 157 : Chacun des époux a le droit d'exercer la profession de son choix.\\n\\nIl peut, seul, pour les besoins de sa profession, souscrire des obligations et aliéner, à\\nl'exclusion des biens communs, ses biens personnels en pleine propriété, même en cas d'exercice\\nd’une profession commerciale.\", '156': \"Article 154 : Les époux se doivent mutuellement fidélité.\\n\\nArticle 155 : Les époux assurent ensemble la direction morale et matérielle de la famille. Ils\\npourvoient à l'éducation des enfants et préparent leur avenir.\\n\\nArticle 156 : Le choix du domicile du ménage incombe aux époux. En cas de désaccord, le\\ndomicile conjugal est fixé par le mari. Toutefois, la femme peut obtenir l'autorisation judiciaire de\\ndomicile séparé si elle rapporte la preuve que le domicile choisi par son mari présente un danger\\nd'ordre matériel ou moral pour elle ou pour ses enfants .\\n\\nArticle 157 : Chacun des époux a le droit d'exercer la profession de son choix.\\n\\nIl peut, seul, pour les besoins de sa profession, souscrire des obligations et aliéner, à\\nl'exclusion des biens communs, ses biens personnels en pleine propriété, même en cas d'exercice\\nd’une profession commerciale.\"}, 'page': 24}, page_content=\"Article 154 : Les époux se doivent mutuellement fidélité.\\n\\nArticle 155 : Les époux assurent ensemble la direction morale et matérielle de la famille. Ils\\npourvoient à l'éducation des enfants et préparent leur avenir.\\n\\nArticle 156 : Le choix du domicile du ménage incombe aux époux. En cas de désaccord, le\\ndomicile conjugal est fixé par le mari. Toutefois, la femme peut obtenir l'autorisation judiciaire de\\ndomicile séparé si elle rapporte la preuve que le domicile choisi par son mari présente un danger\\nd'ordre matériel ou moral pour elle ou pour ses enfants .\\n\\nArticle 157 : Chacun des époux a le droit d'exercer la profession de son choix.\\n\\nIl peut, seul, pour les besoins de sa profession, souscrire des obligations et aliéner, à\\nl'exclusion des biens communs, ses biens personnels en pleine propriété, même en cas d'exercice\\nd’une profession commerciale.\"),\n",
       " Document(metadata={'_id': '68d3d5d5d2c28dba269c705e', 'titre': 'Loi N° 2002-07 portant Code des personnes et de la famille', 'pays': 'Bénin', 'categorie': 'Code des personnes et de la famille', 'langue': 'Français', 'date_publication': '2004-08-24T00:00:00', 'url_source': 'https://sgg.gouv.bj/doc/loi-2002-07/', 'article_references': ['157', '154', '155', '156'], 'articles_in_chunk': ['157', '154', '155', '156'], 'resolved_references': {'157': \"Article 154 : Les époux se doivent mutuellement fidélité.\\n\\nArticle 155 : Les époux assurent ensemble la direction morale et matérielle de la famille. Ils\\npourvoient à l'éducation des enfants et préparent leur avenir.\\n\\nArticle 156 : Le choix du domicile du ménage incombe aux époux. En cas de désaccord, le\\ndomicile conjugal est fixé par le mari. Toutefois, la femme peut obtenir l'autorisation judiciaire de\\ndomicile séparé si elle rapporte la preuve que le domicile choisi par son mari présente un danger\\nd'ordre matériel ou moral pour elle ou pour ses enfants .\\n\\nArticle 157 : Chacun des époux a le droit d'exercer la profession de son choix.\\n\\nIl peut, seul, pour les besoins de sa profession, souscrire des obligations et aliéner, à\\nl'exclusion des biens communs, ses biens personnels en pleine propriété, même en cas d'exercice\\nd’une profession commerciale.\", '154': \"Article 154 : Les époux se doivent mutuellement fidélité.\\n\\nArticle 155 : Les époux assurent ensemble la direction morale et matérielle de la famille. Ils\\npourvoient à l'éducation des enfants et préparent leur avenir.\\n\\nArticle 156 : Le choix du domicile du ménage incombe aux époux. En cas de désaccord, le\\ndomicile conjugal est fixé par le mari. Toutefois, la femme peut obtenir l'autorisation judiciaire de\\ndomicile séparé si elle rapporte la preuve que le domicile choisi par son mari présente un danger\\nd'ordre matériel ou moral pour elle ou pour ses enfants .\\n\\nArticle 157 : Chacun des époux a le droit d'exercer la profession de son choix.\\n\\nIl peut, seul, pour les besoins de sa profession, souscrire des obligations et aliéner, à\\nl'exclusion des biens communs, ses biens personnels en pleine propriété, même en cas d'exercice\\nd’une profession commerciale.\", '155': \"Article 154 : Les époux se doivent mutuellement fidélité.\\n\\nArticle 155 : Les époux assurent ensemble la direction morale et matérielle de la famille. Ils\\npourvoient à l'éducation des enfants et préparent leur avenir.\\n\\nArticle 156 : Le choix du domicile du ménage incombe aux époux. En cas de désaccord, le\\ndomicile conjugal est fixé par le mari. Toutefois, la femme peut obtenir l'autorisation judiciaire de\\ndomicile séparé si elle rapporte la preuve que le domicile choisi par son mari présente un danger\\nd'ordre matériel ou moral pour elle ou pour ses enfants .\\n\\nArticle 157 : Chacun des époux a le droit d'exercer la profession de son choix.\\n\\nIl peut, seul, pour les besoins de sa profession, souscrire des obligations et aliéner, à\\nl'exclusion des biens communs, ses biens personnels en pleine propriété, même en cas d'exercice\\nd’une profession commerciale.\", '156': \"Article 154 : Les époux se doivent mutuellement fidélité.\\n\\nArticle 155 : Les époux assurent ensemble la direction morale et matérielle de la famille. Ils\\npourvoient à l'éducation des enfants et préparent leur avenir.\\n\\nArticle 156 : Le choix du domicile du ménage incombe aux époux. En cas de désaccord, le\\ndomicile conjugal est fixé par le mari. Toutefois, la femme peut obtenir l'autorisation judiciaire de\\ndomicile séparé si elle rapporte la preuve que le domicile choisi par son mari présente un danger\\nd'ordre matériel ou moral pour elle ou pour ses enfants .\\n\\nArticle 157 : Chacun des époux a le droit d'exercer la profession de son choix.\\n\\nIl peut, seul, pour les besoins de sa profession, souscrire des obligations et aliéner, à\\nl'exclusion des biens communs, ses biens personnels en pleine propriété, même en cas d'exercice\\nd’une profession commerciale.\"}, 'page': 24, 'is_reference': True, 'referenced_article': '157', 'original_article': ['157', '154', '155', '156']}, page_content=\"Article 157 (Référencé): Article 154 : Les époux se doivent mutuellement fidélité.\\n\\nArticle 155 : Les époux assurent ensemble la direction morale et matérielle de la famille. Ils\\npourvoient à l'éducation des enfants et préparent leur avenir.\\n\\nArticle 156 : Le choix du domicile du ménage incombe aux époux. En cas de désaccord, le\\ndomicile conjugal est fixé par le mari. Toutefois, la femme peut obtenir l'autorisation judiciaire de\\ndomicile séparé si elle rapporte la preuve que le domicile choisi par son mari présente un d...\"),\n",
       " Document(metadata={'_id': '68d3d5d5d2c28dba269c705e', 'titre': 'Loi N° 2002-07 portant Code des personnes et de la famille', 'pays': 'Bénin', 'categorie': 'Code des personnes et de la famille', 'langue': 'Français', 'date_publication': '2004-08-24T00:00:00', 'url_source': 'https://sgg.gouv.bj/doc/loi-2002-07/', 'article_references': ['157', '154', '155', '156'], 'articles_in_chunk': ['157', '154', '155', '156'], 'resolved_references': {'157': \"Article 154 : Les époux se doivent mutuellement fidélité.\\n\\nArticle 155 : Les époux assurent ensemble la direction morale et matérielle de la famille. Ils\\npourvoient à l'éducation des enfants et préparent leur avenir.\\n\\nArticle 156 : Le choix du domicile du ménage incombe aux époux. En cas de désaccord, le\\ndomicile conjugal est fixé par le mari. Toutefois, la femme peut obtenir l'autorisation judiciaire de\\ndomicile séparé si elle rapporte la preuve que le domicile choisi par son mari présente un danger\\nd'ordre matériel ou moral pour elle ou pour ses enfants .\\n\\nArticle 157 : Chacun des époux a le droit d'exercer la profession de son choix.\\n\\nIl peut, seul, pour les besoins de sa profession, souscrire des obligations et aliéner, à\\nl'exclusion des biens communs, ses biens personnels en pleine propriété, même en cas d'exercice\\nd’une profession commerciale.\", '154': \"Article 154 : Les époux se doivent mutuellement fidélité.\\n\\nArticle 155 : Les époux assurent ensemble la direction morale et matérielle de la famille. Ils\\npourvoient à l'éducation des enfants et préparent leur avenir.\\n\\nArticle 156 : Le choix du domicile du ménage incombe aux époux. En cas de désaccord, le\\ndomicile conjugal est fixé par le mari. Toutefois, la femme peut obtenir l'autorisation judiciaire de\\ndomicile séparé si elle rapporte la preuve que le domicile choisi par son mari présente un danger\\nd'ordre matériel ou moral pour elle ou pour ses enfants .\\n\\nArticle 157 : Chacun des époux a le droit d'exercer la profession de son choix.\\n\\nIl peut, seul, pour les besoins de sa profession, souscrire des obligations et aliéner, à\\nl'exclusion des biens communs, ses biens personnels en pleine propriété, même en cas d'exercice\\nd’une profession commerciale.\", '155': \"Article 154 : Les époux se doivent mutuellement fidélité.\\n\\nArticle 155 : Les époux assurent ensemble la direction morale et matérielle de la famille. Ils\\npourvoient à l'éducation des enfants et préparent leur avenir.\\n\\nArticle 156 : Le choix du domicile du ménage incombe aux époux. En cas de désaccord, le\\ndomicile conjugal est fixé par le mari. Toutefois, la femme peut obtenir l'autorisation judiciaire de\\ndomicile séparé si elle rapporte la preuve que le domicile choisi par son mari présente un danger\\nd'ordre matériel ou moral pour elle ou pour ses enfants .\\n\\nArticle 157 : Chacun des époux a le droit d'exercer la profession de son choix.\\n\\nIl peut, seul, pour les besoins de sa profession, souscrire des obligations et aliéner, à\\nl'exclusion des biens communs, ses biens personnels en pleine propriété, même en cas d'exercice\\nd’une profession commerciale.\", '156': \"Article 154 : Les époux se doivent mutuellement fidélité.\\n\\nArticle 155 : Les époux assurent ensemble la direction morale et matérielle de la famille. Ils\\npourvoient à l'éducation des enfants et préparent leur avenir.\\n\\nArticle 156 : Le choix du domicile du ménage incombe aux époux. En cas de désaccord, le\\ndomicile conjugal est fixé par le mari. Toutefois, la femme peut obtenir l'autorisation judiciaire de\\ndomicile séparé si elle rapporte la preuve que le domicile choisi par son mari présente un danger\\nd'ordre matériel ou moral pour elle ou pour ses enfants .\\n\\nArticle 157 : Chacun des époux a le droit d'exercer la profession de son choix.\\n\\nIl peut, seul, pour les besoins de sa profession, souscrire des obligations et aliéner, à\\nl'exclusion des biens communs, ses biens personnels en pleine propriété, même en cas d'exercice\\nd’une profession commerciale.\"}, 'page': 24, 'is_reference': True, 'referenced_article': '154', 'original_article': ['157', '154', '155', '156']}, page_content=\"Article 154 (Référencé): Article 154 : Les époux se doivent mutuellement fidélité.\\n\\nArticle 155 : Les époux assurent ensemble la direction morale et matérielle de la famille. Ils\\npourvoient à l'éducation des enfants et préparent leur avenir.\\n\\nArticle 156 : Le choix du domicile du ménage incombe aux époux. En cas de désaccord, le\\ndomicile conjugal est fixé par le mari. Toutefois, la femme peut obtenir l'autorisation judiciaire de\\ndomicile séparé si elle rapporte la preuve que le domicile choisi par son mari présente un d...\"),\n",
       " Document(metadata={'_id': '68d3d5d5d2c28dba269c705e', 'titre': 'Loi N° 2002-07 portant Code des personnes et de la famille', 'pays': 'Bénin', 'categorie': 'Code des personnes et de la famille', 'langue': 'Français', 'date_publication': '2004-08-24T00:00:00', 'url_source': 'https://sgg.gouv.bj/doc/loi-2002-07/', 'article_references': ['157', '154', '155', '156'], 'articles_in_chunk': ['157', '154', '155', '156'], 'resolved_references': {'157': \"Article 154 : Les époux se doivent mutuellement fidélité.\\n\\nArticle 155 : Les époux assurent ensemble la direction morale et matérielle de la famille. Ils\\npourvoient à l'éducation des enfants et préparent leur avenir.\\n\\nArticle 156 : Le choix du domicile du ménage incombe aux époux. En cas de désaccord, le\\ndomicile conjugal est fixé par le mari. Toutefois, la femme peut obtenir l'autorisation judiciaire de\\ndomicile séparé si elle rapporte la preuve que le domicile choisi par son mari présente un danger\\nd'ordre matériel ou moral pour elle ou pour ses enfants .\\n\\nArticle 157 : Chacun des époux a le droit d'exercer la profession de son choix.\\n\\nIl peut, seul, pour les besoins de sa profession, souscrire des obligations et aliéner, à\\nl'exclusion des biens communs, ses biens personnels en pleine propriété, même en cas d'exercice\\nd’une profession commerciale.\", '154': \"Article 154 : Les époux se doivent mutuellement fidélité.\\n\\nArticle 155 : Les époux assurent ensemble la direction morale et matérielle de la famille. Ils\\npourvoient à l'éducation des enfants et préparent leur avenir.\\n\\nArticle 156 : Le choix du domicile du ménage incombe aux époux. En cas de désaccord, le\\ndomicile conjugal est fixé par le mari. Toutefois, la femme peut obtenir l'autorisation judiciaire de\\ndomicile séparé si elle rapporte la preuve que le domicile choisi par son mari présente un danger\\nd'ordre matériel ou moral pour elle ou pour ses enfants .\\n\\nArticle 157 : Chacun des époux a le droit d'exercer la profession de son choix.\\n\\nIl peut, seul, pour les besoins de sa profession, souscrire des obligations et aliéner, à\\nl'exclusion des biens communs, ses biens personnels en pleine propriété, même en cas d'exercice\\nd’une profession commerciale.\", '155': \"Article 154 : Les époux se doivent mutuellement fidélité.\\n\\nArticle 155 : Les époux assurent ensemble la direction morale et matérielle de la famille. Ils\\npourvoient à l'éducation des enfants et préparent leur avenir.\\n\\nArticle 156 : Le choix du domicile du ménage incombe aux époux. En cas de désaccord, le\\ndomicile conjugal est fixé par le mari. Toutefois, la femme peut obtenir l'autorisation judiciaire de\\ndomicile séparé si elle rapporte la preuve que le domicile choisi par son mari présente un danger\\nd'ordre matériel ou moral pour elle ou pour ses enfants .\\n\\nArticle 157 : Chacun des époux a le droit d'exercer la profession de son choix.\\n\\nIl peut, seul, pour les besoins de sa profession, souscrire des obligations et aliéner, à\\nl'exclusion des biens communs, ses biens personnels en pleine propriété, même en cas d'exercice\\nd’une profession commerciale.\", '156': \"Article 154 : Les époux se doivent mutuellement fidélité.\\n\\nArticle 155 : Les époux assurent ensemble la direction morale et matérielle de la famille. Ils\\npourvoient à l'éducation des enfants et préparent leur avenir.\\n\\nArticle 156 : Le choix du domicile du ménage incombe aux époux. En cas de désaccord, le\\ndomicile conjugal est fixé par le mari. Toutefois, la femme peut obtenir l'autorisation judiciaire de\\ndomicile séparé si elle rapporte la preuve que le domicile choisi par son mari présente un danger\\nd'ordre matériel ou moral pour elle ou pour ses enfants .\\n\\nArticle 157 : Chacun des époux a le droit d'exercer la profession de son choix.\\n\\nIl peut, seul, pour les besoins de sa profession, souscrire des obligations et aliéner, à\\nl'exclusion des biens communs, ses biens personnels en pleine propriété, même en cas d'exercice\\nd’une profession commerciale.\"}, 'page': 24, 'is_reference': True, 'referenced_article': '155', 'original_article': ['157', '154', '155', '156']}, page_content=\"Article 155 (Référencé): Article 154 : Les époux se doivent mutuellement fidélité.\\n\\nArticle 155 : Les époux assurent ensemble la direction morale et matérielle de la famille. Ils\\npourvoient à l'éducation des enfants et préparent leur avenir.\\n\\nArticle 156 : Le choix du domicile du ménage incombe aux époux. En cas de désaccord, le\\ndomicile conjugal est fixé par le mari. Toutefois, la femme peut obtenir l'autorisation judiciaire de\\ndomicile séparé si elle rapporte la preuve que le domicile choisi par son mari présente un d...\"),\n",
       " Document(id='68d3d5d9d2c28dba269c708f', metadata={'_id': '68d3d5d9d2c28dba269c708f', 'titre': 'Loi N° 2002-07 portant Code des personnes et de la famille', 'pays': 'Bénin', 'categorie': 'Code des personnes et de la famille', 'langue': 'Français', 'date_publication': '2004-08-24T00:00:00', 'url_source': 'https://sgg.gouv.bj/doc/loi-2002-07/', 'article_references': [], 'articles_in_chunk': [], 'resolved_references': {}, 'page': 36}, page_content=\"Le pourvoi est suspensif en matière de divorce et en matière de séparation de corps.\\n\\nAticle 253 : Le jugement ou arrêt qui prononce le divorce n'est pas susceptible\\nd'acquiescement, à moins qu'il n'ait été rendu sur conversion de séparation de corps.\\n\\nAtticle 254 : Le dispositif de l'arrêt ou du jugement qui prononce le divorce est mentionné\\nen marge de l'acte de mariage et des actes de naissance des époux ainsi que sur les transcriptions\\néventuelles. Si le mariage a été célébré à l'étranger, le dispositif du jugement ou de l'arrêt est en outre\\ntranscrit sur le registre des mariages de la commune de Cotonou.\\n\\nExtrait de la décision prononçant le divorce doit être publié dans un journal d'annonces\\nlégales lorsque l'un des époux exerce une activité commerciale.\\n\\n36\"),\n",
       " Document(id='68d3d5d5d2c28dba269c705c', metadata={'_id': '68d3d5d5d2c28dba269c705c', 'titre': 'Loi N° 2002-07 portant Code des personnes et de la famille', 'pays': 'Bénin', 'categorie': 'Code des personnes et de la famille', 'langue': 'Français', 'date_publication': '2004-08-24T00:00:00', 'url_source': 'https://sgg.gouv.bj/doc/loi-2002-07/', 'article_references': ['165'], 'articles_in_chunk': [], 'resolved_references': {'165': \"Article 163 : Le régime matrimonial règle les effets patrimoniaux dans les rapports des\\népoux entre eux et à l'égard des tiers.\\n\\nArticle 164 : La loi ne régit l'association conjugale quant aux biens qu'à défaut de\\nconventions spéciales. Les époux peuvent faire comme ils le jugent à propos, pourvu qu'elles ne soient\\npas contraires aux bonnes mœurs ni aux dispositions qui suivent.\\n\\nArticle 165 : Les époux ne peuvent déroger ni aux devoirs ni aux droits qui résultent pour\\neux du mariage, ni aux règles relatives à l'autorité parentale, à l'administration légale et à la tuielle.;, !\\ned\\n\\n24\"}, 'page': 23}, page_content=\"En ce qui concerne les biens, la dissolution remonte, quant à ses effets entre les époux, au jour\\nde la demande : elle n'est opposable aux tiers que du jour de l’accomplissement des formalités prévues\\nà l'article précédent.\\n\\nAticle 152 : Le jugement prononçant la nulité doit, en toute hypothèse, statuer sur la\\nbonne foi de l’un ou l’autre des époux ; celle-ci est présumée.\\n\\nSi les deux époux sont de mauvaise foi, le mariage est réputé n'avoir jamais existé, tant\\ndans les rapports des époux entre eux que dans leurs rapports avec les tiers.\\n\\nIl produit cependant des effets à l'égard des enfants, quand bien même les deux époux\\nn'auraient pas été de bonne foi. Il est statué sur leur garde comme en matière de divorce.\\n\\nLorsqu'un seul des époux est déclaré de mauvaise foi, le mariage nul est réputé n'avoir\\njamais existé à son égard, tandis que l'autre peut se prévaloir des dispositions de l'article 165.\"),\n",
       " Document(metadata={'_id': '68d3d5d5d2c28dba269c705c', 'titre': 'Loi N° 2002-07 portant Code des personnes et de la famille', 'pays': 'Bénin', 'categorie': 'Code des personnes et de la famille', 'langue': 'Français', 'date_publication': '2004-08-24T00:00:00', 'url_source': 'https://sgg.gouv.bj/doc/loi-2002-07/', 'article_references': ['165'], 'articles_in_chunk': [], 'resolved_references': {'165': \"Article 163 : Le régime matrimonial règle les effets patrimoniaux dans les rapports des\\népoux entre eux et à l'égard des tiers.\\n\\nArticle 164 : La loi ne régit l'association conjugale quant aux biens qu'à défaut de\\nconventions spéciales. Les époux peuvent faire comme ils le jugent à propos, pourvu qu'elles ne soient\\npas contraires aux bonnes mœurs ni aux dispositions qui suivent.\\n\\nArticle 165 : Les époux ne peuvent déroger ni aux devoirs ni aux droits qui résultent pour\\neux du mariage, ni aux règles relatives à l'autorité parentale, à l'administration légale et à la tuielle.;, !\\ned\\n\\n24\"}, 'page': 23, 'is_reference': True, 'referenced_article': '165', 'original_article': []}, page_content=\"Article 165 (Référencé): Article 163 : Le régime matrimonial règle les effets patrimoniaux dans les rapports des\\népoux entre eux et à l'égard des tiers.\\n\\nArticle 164 : La loi ne régit l'association conjugale quant aux biens qu'à défaut de\\nconventions spéciales. Les époux peuvent faire comme ils le jugent à propos, pourvu qu'elles ne soient\\npas contraires aux bonnes mœurs ni aux dispositions qui suivent.\\n\\nArticle 165 : Les époux ne peuvent déroger ni aux devoirs ni aux droits qui résultent pour\\neux du mariage, ni aux règ...\")]"
      ]
     },
     "execution_count": 61,
     "metadata": {},
     "output_type": "execute_result"
    }
   ],
   "source": [
    "results"
   ]
  },
  {
   "cell_type": "code",
   "execution_count": 47,
   "id": "996e1f0b-f37b-461e-b863-4cf3dc30e817",
   "metadata": {},
   "outputs": [
    {
     "name": "stdout",
     "output_type": "stream",
     "text": [
      "Content: FE.-\n",
      "REPUBLIQUE DU BENIN\n",
      "\n",
      "LOI N° 2002-07 DU 24 AOUT 2004\n",
      "\n",
      "portant Code des personnes et de la famille.\n",
      "\n",
      "-  L’ASSEMBLEE NATIONALE à délibéré et adopté en sa séance du 07 juin 2002, puis\n",
      "en sa séance du 14 juin 2004, suite à la décision DCC 02-144 du 23 décembre 2002 de la\n",
      "Cour Constitutionnelle Pour mise en conformité à la Constitution ;\n",
      "\n",
      "- Suite à la Décision de conformité à la Constitution DCC 04-083 du 20 août 2004 de ja\n",
      "Cour Constitutionnelle ;\n",
      "\n",
      "- LE PRESIDENT DE LA REPUBLIQUE promulgue la loi dont la teneur suit :\n",
      "\n",
      "LIVRE PREMIER : DES PERSONNES\n",
      "\n",
      "TITRE PREMIER : DES PERSONNES PHYSIQUES ET MORALES\n",
      "\n",
      "CHAPITRE 1 : DES DISPOSITIONS GENERALES\n",
      "\n",
      "Article 1”  : Toute personne humaine, sans distinction aucune notamment de race, de couleur,\n",
      "de sexe, de réligion, de langue, d’opinion politique ou de toute autre opinion , d’origine nationale\n",
      "où sociale, de fortune, de naissance ou de toute autre situation, est sujet de droit, de sa naissance\n",
      "à son décès.\n",
      "Vector length: 1536\n"
     ]
    }
   ],
   "source": [
    "doc = collection.find_one()\n",
    "print(\"Content:\", doc.get(\"contenu\"))\n",
    "print(\"Vector length:\", len(doc.get(\"vecteur_embedding\", [])))\n"
   ]
  },
  {
   "cell_type": "code",
   "execution_count": 62,
   "id": "affd8d6e-73ad-4ecc-b103-4d96e8ae33b3",
   "metadata": {},
   "outputs": [
    {
     "name": "stdout",
     "output_type": "stream",
     "text": [
      "\n",
      "📄 Result 1\n",
      "Titre: Loi N° 2002-07 portant Code des personnes et de la famille\n",
      "Pays: Bénin\n",
      "Catégorie: Code des personnes et de la famille\n",
      "Contenu (preview): L'adjonction ou la radiation de prénoms peut être autorisée dans les mêmes conditions.\n",
      "\n",
      "@ La requête est présentée au tribunal dans le ressort duquel le requérant est né, et au\n",
      "tribunal de première in …\n",
      "\n",
      "📄 Result 2\n",
      "Titre: Loi N° 2002-07 portant Code des personnes et de la famille\n",
      "Pays: Bénin\n",
      "Catégorie: Code des personnes et de la famille\n",
      "Contenu (preview): expédition du jugement ou de l'arrêt, accompagnée d'un certificat délivré par le greffier et duquel il\n",
      "résulte que le jugement ou l'arrêt est devenu définitif.\n",
      "\n",
      "Article 11 : Il peut être procédé à des …\n",
      "\n",
      "📄 Result 3\n",
      "Titre: Loi N° 2002-07 portant Code des personnes et de la famille\n",
      "Pays: Bénin\n",
      "Catégorie: Code des personnes et de la famille\n",
      "Contenu (preview): Article 13 (Référencé): expédition du jugement ou de l'arrêt, accompagnée d'un certificat délivré par le greffier et duquel il\n",
      "résulte que le jugement ou l'arrêt est devenu définitif.\n",
      "\n",
      "Article 11 : Il …\n",
      "\n",
      "📄 Result 4\n",
      "Titre: Loi N° 2002-07 portant Code des personnes et de la famille\n",
      "Pays: Bénin\n",
      "Catégorie: Code des personnes et de la famille\n",
      "Contenu (preview): Article 12 (Référencé): expédition du jugement ou de l'arrêt, accompagnée d'un certificat délivré par le greffier et duquel il\n",
      "résulte que le jugement ou l'arrêt est devenu définitif.\n",
      "\n",
      "Article 11 : Il …\n",
      "\n",
      "📄 Result 5\n",
      "Titre: Loi N° 2002-07 portant Code des personnes et de la famille\n",
      "Pays: Bénin\n",
      "Catégorie: Code des personnes et de la famille\n",
      "Contenu (preview): Article 11 (Référencé): expédition du jugement ou de l'arrêt, accompagnée d'un certificat délivré par le greffier et duquel il\n",
      "résulte que le jugement ou l'arrêt est devenu définitif.\n",
      "\n",
      "Article 11 : Il …\n",
      "\n",
      "📄 Result 6\n",
      "Titre: Loi N° 2002-07 portant Code des personnes et de la famille\n",
      "Pays: Bénin\n",
      "Catégorie: Code des personnes et de la famille\n",
      "Contenu (preview): , Toutefois, un surnom ou un pseudonyme peut être choisi pour préciser l'identité d'une\n",
      "personne, mais il ne fait päs partie du nom de cette personne.\n",
      "\n",
      "Article 6 : L'enfant légitime porte le nom de fa …\n",
      "\n",
      "📄 Result 7\n",
      "Titre: Loi N° 2002-07 portant Code des personnes et de la famille\n",
      "Pays: Bénin\n",
      "Catégorie: Code des personnes et de la famille\n",
      "Contenu (preview): Article 7 (Référencé): , Toutefois, un surnom ou un pseudonyme peut être choisi pour préciser l'identité d'une\n",
      "personne, mais il ne fait päs partie du nom de cette personne.\n",
      "\n",
      "Article 6 : L'enfant légi …\n",
      "\n",
      "📄 Result 8\n",
      "Titre: Loi N° 2002-07 portant Code des personnes et de la famille\n",
      "Pays: Bénin\n",
      "Catégorie: Code des personnes et de la famille\n",
      "Contenu (preview): Article 6 (Référencé): , Toutefois, un surnom ou un pseudonyme peut être choisi pour préciser l'identité d'une\n",
      "personne, mais il ne fait päs partie du nom de cette personne.\n",
      "\n",
      "Article 6 : L'enfant légi …\n",
      "\n",
      "📄 Result 9\n",
      "Titre: Loi N° 2002-07 portant Code des personnes et de la famille\n",
      "Pays: Bénin\n",
      "Catégorie: Code des personnes et de la famille\n",
      "Contenu (preview): Ces prénoms et nom ne doivent porter atteinte ni à la considération de l'enfant, ni à celle\n",
      "\n",
      "d'autrui.\n",
      "Article 8 : Les prénoms sont choisis par le père ou la mère ou la personne qui en tient lieu.\n",
      "Un  …\n",
      "\n",
      "📄 Result 10\n",
      "Titre: Loi N° 2002-07 portant Code des personnes et de la famille\n",
      "Pays: Bénin\n",
      "Catégorie: Code des personnes et de la famille\n",
      "Contenu (preview): Article 7 (Référencé): , Toutefois, un surnom ou un pseudonyme peut être choisi pour préciser l'identité d'une\n",
      "personne, mais il ne fait päs partie du nom de cette personne.\n",
      "\n",
      "Article 6 : L'enfant légi …\n",
      "\n",
      "📄 Result 11\n",
      "Titre: Loi N° 2002-07 portant Code des personnes et de la famille\n",
      "Pays: Bénin\n",
      "Catégorie: Code des personnes et de la famille\n",
      "Contenu (preview): Article 8 (Référencé): Ces prénoms et nom ne doivent porter atteinte ni à la considération de l'enfant, ni à celle\n",
      "\n",
      "d'autrui.\n",
      "Article 8 : Les prénoms sont choisis par le père ou la mère ou la personne …\n",
      "\n",
      "📄 Result 12\n",
      "Titre: Loi N° 2002-07 portant Code des personnes et de la famille\n",
      "Pays: Bénin\n",
      "Catégorie: Code des personnes et de la famille\n",
      "Contenu (preview): S'il est appelé à statuer sur les nom et prénoms de l'adopté, le tribunal décide dans la\n",
      "même forme.\n",
      "\n",
      "Le dispositif du jugement indique les noms et prénoms anciens et nouveaux de l'adopté et\n",
      "contient  …\n",
      "\n",
      "📄 Result 13\n",
      "Titre: Loi N° 2002-07 portant Code des personnes et de la famille\n",
      "Pays: Bénin\n",
      "Catégorie: Code des personnes et de la famille\n",
      "Contenu (preview): Article 357 (Référencé): S'il est appelé à statuer sur les nom et prénoms de l'adopté, le tribunal décide dans la\n",
      "même forme.\n",
      "\n",
      "Le dispositif du jugement indique les noms et prénoms anciens et nouveaux …\n",
      "\n",
      "📄 Result 14\n",
      "Titre: Loi N° 2002-07 portant Code des personnes et de la famille\n",
      "Pays: Bénin\n",
      "Catégorie: Code des personnes et de la famille\n",
      "Contenu (preview): Quel que soit le moment où l'absent ou le disparu reparaît, les enfants cessent d'être\n",
      "\n",
      "soumis au régime de l'administration légale ou de la tutelle. Dans le cas de divorce ou de remariage,\n",
      "opposable  …\n",
      "\n",
      "📄 Result 15\n",
      "Titre: Loi N° 2002-07 portant Code des personnes et de la famille\n",
      "Pays: Bénin\n",
      "Catégorie: Code des personnes et de la famille\n",
      "Contenu (preview): Tous changements et conire-lettres, mêmes revêtus des formes prescrites par l'article\n",
      "précédent, seront sans effet à l'égard des tiers s'ils n'ont pas été rédigés à la suite de la minute du\n",
      "contrat de …\n",
      "\n",
      "📄 Result 16\n",
      "Titre: Loi N° 2002-07 portant Code des personnes et de la famille\n",
      "Pays: Bénin\n",
      "Catégorie: Code des personnes et de la famille\n",
      "Contenu (preview): Article 170 (Référencé): Tous changements et conire-lettres, mêmes revêtus des formes prescrites par l'article\n",
      "précédent, seront sans effet à l'égard des tiers s'ils n'ont pas été rédigés à la suite d …\n",
      "\n",
      "📄 Result 17\n",
      "Titre: Loi N° 2002-07 portant Code des personnes et de la famille\n",
      "Pays: Bénin\n",
      "Catégorie: Code des personnes et de la famille\n",
      "Contenu (preview): La cause est instruite en la forme ordinaire et débattue en chambre du conseil, le\n",
      "ministère public entendu. Le jugement est rendu en audience publique.\n",
      "\n",
      "Les décisions intervenant sur lesdites actions …\n",
      "\n",
      "📄 Result 18\n",
      "Titre: Loi N° 2002-07 portant Code des personnes et de la famille\n",
      "Pays: Bénin\n",
      "Catégorie: Code des personnes et de la famille\n",
      "Contenu (preview): Article 290 (Référencé): La cause est instruite en la forme ordinaire et débattue en chambre du conseil, le\n",
      "ministère public entendu. Le jugement est rendu en audience publique.\n",
      "\n",
      "Les décisions interve …\n",
      "\n",
      "📄 Result 19\n",
      "Titre: Loi N° 2002-07 portant Code des personnes et de la famille\n",
      "Pays: Bénin\n",
      "Catégorie: Code des personnes et de la famille\n",
      "Contenu (preview): Article 291 (Référencé): La cause est instruite en la forme ordinaire et débattue en chambre du conseil, le\n",
      "ministère public entendu. Le jugement est rendu en audience publique.\n",
      "\n",
      "Les décisions interve …\n",
      "\n",
      "📄 Result 20\n",
      "Titre: Loi N° 2002-07 portant Code des personnes et de la famille\n",
      "Pays: Bénin\n",
      "Catégorie: Code des personnes et de la famille\n",
      "Contenu (preview): En cas d'adoption conjointe, la requête aux fins d'adoption est présentée par les époux.\n",
      "\n",
      "Il est obligatoirement joint à la requête un extrait de l'acte de naissance de l'enfant et une\n",
      "expédition du o …\n",
      "\n",
      "📄 Result 21\n",
      "Titre: Loi N° 2002-07 portant Code des personnes et de la famille\n",
      "Pays: Bénin\n",
      "Catégorie: Code des personnes et de la famille\n",
      "Contenu (preview): Article 355 (Référencé): En cas d'adoption conjointe, la requête aux fins d'adoption est présentée par les époux.\n",
      "\n",
      "Il est obligatoirement joint à la requête un extrait de l'acte de naissance de l'enfa …\n",
      "\n",
      "📄 Result 22\n",
      "Titre: Loi N° 2002-07 portant Code des personnes et de la famille\n",
      "Pays: Bénin\n",
      "Catégorie: Code des personnes et de la famille\n",
      "Contenu (preview): Article 353 : Lorsque le placement en vue de l'adoption cesse ou lorsque le tribunal a\n",
      "refusé de prononcer l'adoption, les effets du placement sont rétroactivement résolus. Le ministère\n",
      "public, d'offi …\n",
      "\n",
      "📄 Result 23\n",
      "Titre: Loi N° 2002-07 portant Code des personnes et de la famille\n",
      "Pays: Bénin\n",
      "Catégorie: Code des personnes et de la famille\n",
      "Contenu (preview): Article 353 (Référencé): Article 353 : Lorsque le placement en vue de l'adoption cesse ou lorsque le tribunal a\n",
      "refusé de prononcer l'adoption, les effets du placement sont rétroactivement résolus. Le …\n",
      "\n",
      "📄 Result 24\n",
      "Titre: Loi N° 2002-07 portant Code des personnes et de la famille\n",
      "Pays: Bénin\n",
      "Catégorie: Code des personnes et de la famille\n",
      "Contenu (preview): Article 354 (Référencé): Article 353 : Lorsque le placement en vue de l'adoption cesse ou lorsque le tribunal a\n",
      "refusé de prononcer l'adoption, les effets du placement sont rétroactivement résolus. Le …\n"
     ]
    }
   ],
   "source": [
    "query = \"La décision qui autorise le changement de nom profite au requérant et à ses enfants\"\n",
    "\n",
    "results, articles, filters = smart_legal_query(query)\n",
    "\n",
    "\n",
    "# --- 3. Inspect results ---\n",
    "for i, doc in enumerate(results, start=1):\n",
    "    print(f\"\\n📄 Result {i}\")\n",
    "    print(\"Titre:\", doc.metadata.get(\"titre\"))\n",
    "    print(\"Pays:\", doc.metadata.get(\"pays\"))\n",
    "    print(\"Catégorie:\", doc.metadata.get(\"categorie\"))\n",
    "    print(\"Contenu (preview):\", doc.page_content[:200], \"…\")\n"
   ]
  },
  {
   "cell_type": "code",
   "execution_count": 27,
   "id": "8b477a9d-5c1b-4103-809a-eec758e9c0d1",
   "metadata": {},
   "outputs": [],
   "source": [
    "def extract_articles_from_query(query: str) -> List[str]:\n",
    "    \"\"\"\n",
    "    Extract article numbers specifically from user queries.\n",
    "    More permissive patterns for natural language queries.\n",
    "    \"\"\"\n",
    "    patterns = [\n",
    "        r\"article\\s+(\\d+)\",\n",
    "        r\"art\\.?\\s*(\\d+)\",\n",
    "        r\"l'article\\s+(\\d+)\",\n",
    "        r\"article\\s+n°?\\s*(\\d+)\",\n",
    "        r\"art\\s+(\\d+)\",\n",
    "    ]\n",
    "    \n",
    "    articles = set()\n",
    "    \n",
    "    for pattern in patterns:\n",
    "        matches = re.findall(pattern, query, re.IGNORECASE)\n",
    "        articles.update(matches)\n",
    "    \n",
    "    return list(articles)"
   ]
  },
  {
   "cell_type": "markdown",
   "id": "42ed9fd7-e453-4641-9779-89b7feb159c1",
   "metadata": {},
   "source": [
    "# RAG App implementation\n",
    "\n",
    "Next step"
   ]
  }
 ],
 "metadata": {
  "kernelspec": {
   "display_name": "Python 3 (ipykernel)",
   "language": "python",
   "name": "python3"
  },
  "language_info": {
   "codemirror_mode": {
    "name": "ipython",
    "version": 3
   },
   "file_extension": ".py",
   "mimetype": "text/x-python",
   "name": "python",
   "nbconvert_exporter": "python",
   "pygments_lexer": "ipython3",
   "version": "3.11.13"
  }
 },
 "nbformat": 4,
 "nbformat_minor": 5
}
